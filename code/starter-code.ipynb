{
 "cells": [
  {
   "cell_type": "markdown",
   "metadata": {},
   "source": [
    "# Project 1: SAT & ACT Analysis"
   ]
  },
  {
   "cell_type": "markdown",
   "metadata": {},
   "source": [
    "## Problem Statement\n",
    "\n",
    "The objective of this project has been to analyze the SAT & ACT data available for 2017 and 2018. The data comprises of participation rates per state wherever available and the individual state avaerage scores. The data has been cleaned, analyzed and looked for useful information that would help understand why some states prefer one of the two exams. "
   ]
  },
  {
   "cell_type": "markdown",
   "metadata": {},
   "source": [
    "## Executive Summary \n",
    "I need to figure out how to make these links.\n",
    "### Contents:\n",
    "- [2017 Data Import & Cleaning](#Data-Import-and-Cleaning)\n",
    "- [2018 Data Import and Cleaning](#2018-Data-Import-and-Cleaning)\n",
    "- [Exploratory Data Analysis](#Exploratory-Data-Analysis)\n",
    "- [Data Visualization](#Visualize-the-data)\n",
    "- [Descriptive and Inferential Statistics](#Descriptive-and-Inferential-Statistics)\n",
    "- [Outside Research](#Outside-Research)\n",
    "- [Conclusions and Recommendations](#Conclusions-and-Recommendations)"
   ]
  },
  {
   "cell_type": "markdown",
   "metadata": {},
   "source": [
    "**If you combine your problem statement, executive summary, data dictionary, and conclusions/recommendations, you have an amazing README.md file that quickly aligns your audience to the contents of your project.** Don't forget to cite your data sources!"
   ]
  },
  {
   "cell_type": "markdown",
   "metadata": {},
   "source": [
    "*All libraries used should be added here*"
   ]
  },
  {
   "cell_type": "code",
   "execution_count": 122,
   "metadata": {},
   "outputs": [],
   "source": [
    "#Imports:\n",
    "import numpy as np\n",
    "import matplotlib.pyplot as plt\n",
    "import seaborn as sns\n",
    "import pandas as pd"
   ]
  },
  {
   "cell_type": "markdown",
   "metadata": {},
   "source": [
    "## 2017 Data Import and Cleaning"
   ]
  },
  {
   "cell_type": "markdown",
   "metadata": {},
   "source": [
    "#### 1. Read In SAT & ACT  Data\n",
    "\n",
    "Read in the `sat_2017.csv` and `act_2017.csv` files and assign them to appropriately named pandas dataframes."
   ]
  },
  {
   "cell_type": "code",
   "execution_count": 123,
   "metadata": {},
   "outputs": [],
   "source": [
    "# Reading the files using pandas\n",
    "sat_2017 = pd.read_csv(\"./../data/sat_2017.csv\")\n",
    "act_2017 = pd.read_csv(\"./../data/act_2017.csv\")"
   ]
  },
  {
   "cell_type": "code",
   "execution_count": 124,
   "metadata": {},
   "outputs": [
    {
     "data": {
      "text/plain": [
       "Index(['State', 'Participation', 'Evidence-Based Reading and Writing', 'Math',\n",
       "       'Total'],\n",
       "      dtype='object')"
      ]
     },
     "execution_count": 124,
     "metadata": {},
     "output_type": "execute_result"
    }
   ],
   "source": [
    "sat_2017.columns"
   ]
  },
  {
   "cell_type": "code",
   "execution_count": 125,
   "metadata": {},
   "outputs": [
    {
     "data": {
      "text/plain": [
       "Index(['State', 'Participation', 'English', 'Math', 'Reading', 'Science',\n",
       "       'Composite'],\n",
       "      dtype='object')"
      ]
     },
     "execution_count": 125,
     "metadata": {},
     "output_type": "execute_result"
    }
   ],
   "source": [
    "act_2017.columns"
   ]
  },
  {
   "cell_type": "markdown",
   "metadata": {},
   "source": [
    "#### 2. Display Data\n",
    "\n",
    "Print the first 10 rows of each dataframe to your jupyter notebook"
   ]
  },
  {
   "cell_type": "code",
   "execution_count": 126,
   "metadata": {},
   "outputs": [
    {
     "data": {
      "text/html": [
       "<div>\n",
       "<style scoped>\n",
       "    .dataframe tbody tr th:only-of-type {\n",
       "        vertical-align: middle;\n",
       "    }\n",
       "\n",
       "    .dataframe tbody tr th {\n",
       "        vertical-align: top;\n",
       "    }\n",
       "\n",
       "    .dataframe thead th {\n",
       "        text-align: right;\n",
       "    }\n",
       "</style>\n",
       "<table border=\"1\" class=\"dataframe\">\n",
       "  <thead>\n",
       "    <tr style=\"text-align: right;\">\n",
       "      <th></th>\n",
       "      <th>State</th>\n",
       "      <th>Participation</th>\n",
       "      <th>Evidence-Based Reading and Writing</th>\n",
       "      <th>Math</th>\n",
       "      <th>Total</th>\n",
       "    </tr>\n",
       "  </thead>\n",
       "  <tbody>\n",
       "    <tr>\n",
       "      <td>0</td>\n",
       "      <td>Alabama</td>\n",
       "      <td>5%</td>\n",
       "      <td>593</td>\n",
       "      <td>572</td>\n",
       "      <td>1165</td>\n",
       "    </tr>\n",
       "    <tr>\n",
       "      <td>1</td>\n",
       "      <td>Alaska</td>\n",
       "      <td>38%</td>\n",
       "      <td>547</td>\n",
       "      <td>533</td>\n",
       "      <td>1080</td>\n",
       "    </tr>\n",
       "    <tr>\n",
       "      <td>2</td>\n",
       "      <td>Arizona</td>\n",
       "      <td>30%</td>\n",
       "      <td>563</td>\n",
       "      <td>553</td>\n",
       "      <td>1116</td>\n",
       "    </tr>\n",
       "    <tr>\n",
       "      <td>3</td>\n",
       "      <td>Arkansas</td>\n",
       "      <td>3%</td>\n",
       "      <td>614</td>\n",
       "      <td>594</td>\n",
       "      <td>1208</td>\n",
       "    </tr>\n",
       "    <tr>\n",
       "      <td>4</td>\n",
       "      <td>California</td>\n",
       "      <td>53%</td>\n",
       "      <td>531</td>\n",
       "      <td>524</td>\n",
       "      <td>1055</td>\n",
       "    </tr>\n",
       "    <tr>\n",
       "      <td>5</td>\n",
       "      <td>Colorado</td>\n",
       "      <td>11%</td>\n",
       "      <td>606</td>\n",
       "      <td>595</td>\n",
       "      <td>1201</td>\n",
       "    </tr>\n",
       "    <tr>\n",
       "      <td>6</td>\n",
       "      <td>Connecticut</td>\n",
       "      <td>100%</td>\n",
       "      <td>530</td>\n",
       "      <td>512</td>\n",
       "      <td>1041</td>\n",
       "    </tr>\n",
       "    <tr>\n",
       "      <td>7</td>\n",
       "      <td>Delaware</td>\n",
       "      <td>100%</td>\n",
       "      <td>503</td>\n",
       "      <td>492</td>\n",
       "      <td>996</td>\n",
       "    </tr>\n",
       "    <tr>\n",
       "      <td>8</td>\n",
       "      <td>District of Columbia</td>\n",
       "      <td>100%</td>\n",
       "      <td>482</td>\n",
       "      <td>468</td>\n",
       "      <td>950</td>\n",
       "    </tr>\n",
       "    <tr>\n",
       "      <td>9</td>\n",
       "      <td>Florida</td>\n",
       "      <td>83%</td>\n",
       "      <td>520</td>\n",
       "      <td>497</td>\n",
       "      <td>1017</td>\n",
       "    </tr>\n",
       "  </tbody>\n",
       "</table>\n",
       "</div>"
      ],
      "text/plain": [
       "                  State Participation  Evidence-Based Reading and Writing  \\\n",
       "0               Alabama            5%                                 593   \n",
       "1                Alaska           38%                                 547   \n",
       "2               Arizona           30%                                 563   \n",
       "3              Arkansas            3%                                 614   \n",
       "4            California           53%                                 531   \n",
       "5              Colorado           11%                                 606   \n",
       "6           Connecticut          100%                                 530   \n",
       "7              Delaware          100%                                 503   \n",
       "8  District of Columbia          100%                                 482   \n",
       "9               Florida           83%                                 520   \n",
       "\n",
       "   Math  Total  \n",
       "0   572   1165  \n",
       "1   533   1080  \n",
       "2   553   1116  \n",
       "3   594   1208  \n",
       "4   524   1055  \n",
       "5   595   1201  \n",
       "6   512   1041  \n",
       "7   492    996  \n",
       "8   468    950  \n",
       "9   497   1017  "
      ]
     },
     "execution_count": 126,
     "metadata": {},
     "output_type": "execute_result"
    }
   ],
   "source": [
    "#Code:\n",
    "sat_2017.head(10)"
   ]
  },
  {
   "cell_type": "code",
   "execution_count": 127,
   "metadata": {},
   "outputs": [
    {
     "data": {
      "text/html": [
       "<div>\n",
       "<style scoped>\n",
       "    .dataframe tbody tr th:only-of-type {\n",
       "        vertical-align: middle;\n",
       "    }\n",
       "\n",
       "    .dataframe tbody tr th {\n",
       "        vertical-align: top;\n",
       "    }\n",
       "\n",
       "    .dataframe thead th {\n",
       "        text-align: right;\n",
       "    }\n",
       "</style>\n",
       "<table border=\"1\" class=\"dataframe\">\n",
       "  <thead>\n",
       "    <tr style=\"text-align: right;\">\n",
       "      <th></th>\n",
       "      <th>State</th>\n",
       "      <th>Participation</th>\n",
       "      <th>English</th>\n",
       "      <th>Math</th>\n",
       "      <th>Reading</th>\n",
       "      <th>Science</th>\n",
       "      <th>Composite</th>\n",
       "    </tr>\n",
       "  </thead>\n",
       "  <tbody>\n",
       "    <tr>\n",
       "      <td>0</td>\n",
       "      <td>National</td>\n",
       "      <td>60%</td>\n",
       "      <td>20.3</td>\n",
       "      <td>20.7</td>\n",
       "      <td>21.4</td>\n",
       "      <td>21.0</td>\n",
       "      <td>21.0</td>\n",
       "    </tr>\n",
       "    <tr>\n",
       "      <td>1</td>\n",
       "      <td>Alabama</td>\n",
       "      <td>100%</td>\n",
       "      <td>18.9</td>\n",
       "      <td>18.4</td>\n",
       "      <td>19.7</td>\n",
       "      <td>19.4</td>\n",
       "      <td>19.2</td>\n",
       "    </tr>\n",
       "    <tr>\n",
       "      <td>2</td>\n",
       "      <td>Alaska</td>\n",
       "      <td>65%</td>\n",
       "      <td>18.7</td>\n",
       "      <td>19.8</td>\n",
       "      <td>20.4</td>\n",
       "      <td>19.9</td>\n",
       "      <td>19.8</td>\n",
       "    </tr>\n",
       "    <tr>\n",
       "      <td>3</td>\n",
       "      <td>Arizona</td>\n",
       "      <td>62%</td>\n",
       "      <td>18.6</td>\n",
       "      <td>19.8</td>\n",
       "      <td>20.1</td>\n",
       "      <td>19.8</td>\n",
       "      <td>19.7</td>\n",
       "    </tr>\n",
       "    <tr>\n",
       "      <td>4</td>\n",
       "      <td>Arkansas</td>\n",
       "      <td>100%</td>\n",
       "      <td>18.9</td>\n",
       "      <td>19.0</td>\n",
       "      <td>19.7</td>\n",
       "      <td>19.5</td>\n",
       "      <td>19.4</td>\n",
       "    </tr>\n",
       "    <tr>\n",
       "      <td>5</td>\n",
       "      <td>California</td>\n",
       "      <td>31%</td>\n",
       "      <td>22.5</td>\n",
       "      <td>22.7</td>\n",
       "      <td>23.1</td>\n",
       "      <td>22.2</td>\n",
       "      <td>22.8</td>\n",
       "    </tr>\n",
       "    <tr>\n",
       "      <td>6</td>\n",
       "      <td>Colorado</td>\n",
       "      <td>100%</td>\n",
       "      <td>20.1</td>\n",
       "      <td>20.3</td>\n",
       "      <td>21.2</td>\n",
       "      <td>20.9</td>\n",
       "      <td>20.8</td>\n",
       "    </tr>\n",
       "    <tr>\n",
       "      <td>7</td>\n",
       "      <td>Connecticut</td>\n",
       "      <td>31%</td>\n",
       "      <td>25.5</td>\n",
       "      <td>24.6</td>\n",
       "      <td>25.6</td>\n",
       "      <td>24.6</td>\n",
       "      <td>25.2</td>\n",
       "    </tr>\n",
       "    <tr>\n",
       "      <td>8</td>\n",
       "      <td>Delaware</td>\n",
       "      <td>18%</td>\n",
       "      <td>24.1</td>\n",
       "      <td>23.4</td>\n",
       "      <td>24.8</td>\n",
       "      <td>23.6</td>\n",
       "      <td>24.1</td>\n",
       "    </tr>\n",
       "    <tr>\n",
       "      <td>9</td>\n",
       "      <td>District of Columbia</td>\n",
       "      <td>32%</td>\n",
       "      <td>24.4</td>\n",
       "      <td>23.5</td>\n",
       "      <td>24.9</td>\n",
       "      <td>23.5</td>\n",
       "      <td>24.2</td>\n",
       "    </tr>\n",
       "  </tbody>\n",
       "</table>\n",
       "</div>"
      ],
      "text/plain": [
       "                  State Participation  English  Math  Reading  Science  \\\n",
       "0              National           60%     20.3  20.7     21.4     21.0   \n",
       "1               Alabama          100%     18.9  18.4     19.7     19.4   \n",
       "2                Alaska           65%     18.7  19.8     20.4     19.9   \n",
       "3               Arizona           62%     18.6  19.8     20.1     19.8   \n",
       "4              Arkansas          100%     18.9  19.0     19.7     19.5   \n",
       "5            California           31%     22.5  22.7     23.1     22.2   \n",
       "6              Colorado          100%     20.1  20.3     21.2     20.9   \n",
       "7           Connecticut           31%     25.5  24.6     25.6     24.6   \n",
       "8              Delaware           18%     24.1  23.4     24.8     23.6   \n",
       "9  District of Columbia           32%     24.4  23.5     24.9     23.5   \n",
       "\n",
       "  Composite  \n",
       "0      21.0  \n",
       "1      19.2  \n",
       "2      19.8  \n",
       "3      19.7  \n",
       "4      19.4  \n",
       "5      22.8  \n",
       "6      20.8  \n",
       "7      25.2  \n",
       "8      24.1  \n",
       "9      24.2  "
      ]
     },
     "execution_count": 127,
     "metadata": {},
     "output_type": "execute_result"
    }
   ],
   "source": [
    "act_2017.head(10)"
   ]
  },
  {
   "cell_type": "markdown",
   "metadata": {},
   "source": [
    "#### 3. Verbally Describe Data\n",
    "\n",
    "Take your time looking through the data and thoroughly describe the data in the markdown cell below. "
   ]
  },
  {
   "cell_type": "markdown",
   "metadata": {},
   "source": [
    "Answer: The sat_2017.csv and act_2017.csv files provide the state-wise average scores in the respective sections and their percentage participation. "
   ]
  },
  {
   "cell_type": "markdown",
   "metadata": {},
   "source": [
    "#### 4a. Does the data look complete? "
   ]
  },
  {
   "cell_type": "code",
   "execution_count": 128,
   "metadata": {},
   "outputs": [
    {
     "name": "stdout",
     "output_type": "stream",
     "text": [
      "51 52\n"
     ]
    }
   ],
   "source": [
    "print(len(sat_2017['State']) , len(act_2017['State']))"
   ]
  },
  {
   "cell_type": "code",
   "execution_count": 129,
   "metadata": {},
   "outputs": [
    {
     "name": "stdout",
     "output_type": "stream",
     "text": [
      "set() {'National'}\n"
     ]
    }
   ],
   "source": [
    "sat_set = set(sat_2017['State'])\n",
    "act_set = set(act_2017['State'])\n",
    "print(sat_set.difference(act_set),act_set.difference(sat_set))\n",
    "missing_state = act_set.difference(sat_set)"
   ]
  },
  {
   "cell_type": "markdown",
   "metadata": {},
   "source": [
    "Answer: The sat_2017.csv has a missing state. It reports only 51 states. act_2017.csv has an extra state named as 'National'"
   ]
  },
  {
   "cell_type": "markdown",
   "metadata": {},
   "source": [
    "#### 4b. Are there any obvious issues with the observations?\n",
    "\n",
    "**What is the minimum *possible* value for each test/subtest? What is the maximum *possible* value?**\n",
    "\n",
    "Consider comparing any questionable values to the sources of your data:\n",
    "- [SAT](https://blog.collegevine.com/here-are-the-average-sat-scores-by-state/)\n",
    "- [ACT](https://blog.prepscholar.com/act-scores-by-state-averages-highs-and-lows)"
   ]
  },
  {
   "cell_type": "code",
   "execution_count": 130,
   "metadata": {},
   "outputs": [
    {
     "data": {
      "text/html": [
       "<div>\n",
       "<style scoped>\n",
       "    .dataframe tbody tr th:only-of-type {\n",
       "        vertical-align: middle;\n",
       "    }\n",
       "\n",
       "    .dataframe tbody tr th {\n",
       "        vertical-align: top;\n",
       "    }\n",
       "\n",
       "    .dataframe thead th {\n",
       "        text-align: right;\n",
       "    }\n",
       "</style>\n",
       "<table border=\"1\" class=\"dataframe\">\n",
       "  <thead>\n",
       "    <tr style=\"text-align: right;\">\n",
       "      <th></th>\n",
       "      <th>Evidence-Based Reading and Writing</th>\n",
       "      <th>Math</th>\n",
       "      <th>Total</th>\n",
       "    </tr>\n",
       "  </thead>\n",
       "  <tbody>\n",
       "    <tr>\n",
       "      <td>count</td>\n",
       "      <td>51.000000</td>\n",
       "      <td>51.000000</td>\n",
       "      <td>51.000000</td>\n",
       "    </tr>\n",
       "    <tr>\n",
       "      <td>mean</td>\n",
       "      <td>569.117647</td>\n",
       "      <td>547.627451</td>\n",
       "      <td>1126.098039</td>\n",
       "    </tr>\n",
       "    <tr>\n",
       "      <td>std</td>\n",
       "      <td>45.666901</td>\n",
       "      <td>84.909119</td>\n",
       "      <td>92.494812</td>\n",
       "    </tr>\n",
       "    <tr>\n",
       "      <td>min</td>\n",
       "      <td>482.000000</td>\n",
       "      <td>52.000000</td>\n",
       "      <td>950.000000</td>\n",
       "    </tr>\n",
       "    <tr>\n",
       "      <td>25%</td>\n",
       "      <td>533.500000</td>\n",
       "      <td>522.000000</td>\n",
       "      <td>1055.500000</td>\n",
       "    </tr>\n",
       "    <tr>\n",
       "      <td>50%</td>\n",
       "      <td>559.000000</td>\n",
       "      <td>548.000000</td>\n",
       "      <td>1107.000000</td>\n",
       "    </tr>\n",
       "    <tr>\n",
       "      <td>75%</td>\n",
       "      <td>613.000000</td>\n",
       "      <td>599.000000</td>\n",
       "      <td>1212.000000</td>\n",
       "    </tr>\n",
       "    <tr>\n",
       "      <td>max</td>\n",
       "      <td>644.000000</td>\n",
       "      <td>651.000000</td>\n",
       "      <td>1295.000000</td>\n",
       "    </tr>\n",
       "  </tbody>\n",
       "</table>\n",
       "</div>"
      ],
      "text/plain": [
       "       Evidence-Based Reading and Writing        Math        Total\n",
       "count                           51.000000   51.000000    51.000000\n",
       "mean                           569.117647  547.627451  1126.098039\n",
       "std                             45.666901   84.909119    92.494812\n",
       "min                            482.000000   52.000000   950.000000\n",
       "25%                            533.500000  522.000000  1055.500000\n",
       "50%                            559.000000  548.000000  1107.000000\n",
       "75%                            613.000000  599.000000  1212.000000\n",
       "max                            644.000000  651.000000  1295.000000"
      ]
     },
     "execution_count": 130,
     "metadata": {},
     "output_type": "execute_result"
    }
   ],
   "source": [
    "sat_2017.describe()"
   ]
  },
  {
   "cell_type": "code",
   "execution_count": 131,
   "metadata": {},
   "outputs": [
    {
     "name": "stdout",
     "output_type": "stream",
     "text": [
      "       State Participation  Evidence-Based Reading and Writing  Math  Total\n",
      "20  Maryland           69%                                 536    52   1060\n"
     ]
    }
   ],
   "source": [
    "print(sat_2017[min(sat_2017['Math']) == sat_2017['Math']])"
   ]
  },
  {
   "cell_type": "code",
   "execution_count": 132,
   "metadata": {},
   "outputs": [
    {
     "data": {
      "text/html": [
       "<div>\n",
       "<style scoped>\n",
       "    .dataframe tbody tr th:only-of-type {\n",
       "        vertical-align: middle;\n",
       "    }\n",
       "\n",
       "    .dataframe tbody tr th {\n",
       "        vertical-align: top;\n",
       "    }\n",
       "\n",
       "    .dataframe thead th {\n",
       "        text-align: right;\n",
       "    }\n",
       "</style>\n",
       "<table border=\"1\" class=\"dataframe\">\n",
       "  <thead>\n",
       "    <tr style=\"text-align: right;\">\n",
       "      <th></th>\n",
       "      <th>English</th>\n",
       "      <th>Math</th>\n",
       "      <th>Reading</th>\n",
       "      <th>Science</th>\n",
       "    </tr>\n",
       "  </thead>\n",
       "  <tbody>\n",
       "    <tr>\n",
       "      <td>count</td>\n",
       "      <td>52.000000</td>\n",
       "      <td>52.000000</td>\n",
       "      <td>52.000000</td>\n",
       "      <td>52.000000</td>\n",
       "    </tr>\n",
       "    <tr>\n",
       "      <td>mean</td>\n",
       "      <td>20.919231</td>\n",
       "      <td>21.173077</td>\n",
       "      <td>22.001923</td>\n",
       "      <td>21.040385</td>\n",
       "    </tr>\n",
       "    <tr>\n",
       "      <td>std</td>\n",
       "      <td>2.332132</td>\n",
       "      <td>1.963602</td>\n",
       "      <td>2.048672</td>\n",
       "      <td>3.151113</td>\n",
       "    </tr>\n",
       "    <tr>\n",
       "      <td>min</td>\n",
       "      <td>16.300000</td>\n",
       "      <td>18.000000</td>\n",
       "      <td>18.100000</td>\n",
       "      <td>2.300000</td>\n",
       "    </tr>\n",
       "    <tr>\n",
       "      <td>25%</td>\n",
       "      <td>19.000000</td>\n",
       "      <td>19.400000</td>\n",
       "      <td>20.475000</td>\n",
       "      <td>19.900000</td>\n",
       "    </tr>\n",
       "    <tr>\n",
       "      <td>50%</td>\n",
       "      <td>20.550000</td>\n",
       "      <td>20.900000</td>\n",
       "      <td>21.700000</td>\n",
       "      <td>21.150000</td>\n",
       "    </tr>\n",
       "    <tr>\n",
       "      <td>75%</td>\n",
       "      <td>23.300000</td>\n",
       "      <td>23.100000</td>\n",
       "      <td>24.125000</td>\n",
       "      <td>22.525000</td>\n",
       "    </tr>\n",
       "    <tr>\n",
       "      <td>max</td>\n",
       "      <td>25.500000</td>\n",
       "      <td>25.300000</td>\n",
       "      <td>26.000000</td>\n",
       "      <td>24.900000</td>\n",
       "    </tr>\n",
       "  </tbody>\n",
       "</table>\n",
       "</div>"
      ],
      "text/plain": [
       "         English       Math    Reading    Science\n",
       "count  52.000000  52.000000  52.000000  52.000000\n",
       "mean   20.919231  21.173077  22.001923  21.040385\n",
       "std     2.332132   1.963602   2.048672   3.151113\n",
       "min    16.300000  18.000000  18.100000   2.300000\n",
       "25%    19.000000  19.400000  20.475000  19.900000\n",
       "50%    20.550000  20.900000  21.700000  21.150000\n",
       "75%    23.300000  23.100000  24.125000  22.525000\n",
       "max    25.500000  25.300000  26.000000  24.900000"
      ]
     },
     "execution_count": 132,
     "metadata": {},
     "output_type": "execute_result"
    }
   ],
   "source": [
    "act_2017.describe()"
   ]
  },
  {
   "cell_type": "markdown",
   "metadata": {},
   "source": [
    "Answer: The mimimum score that may be scored in a section of the SAT is 200, however, our data shows a minimum of 52 corresponding to state of Maryland. We could correct this incorrect entry using the total score and other subject score. "
   ]
  },
  {
   "cell_type": "markdown",
   "metadata": {},
   "source": [
    "#### 4c. Fix any errors you identified\n",
    "\n",
    "**The data is available** so there's no need to guess or calculate anything. If you didn't find any errors, continue to the next step."
   ]
  },
  {
   "cell_type": "code",
   "execution_count": 133,
   "metadata": {},
   "outputs": [
    {
     "data": {
      "text/plain": [
       "Index(['State', 'Participation', 'Evidence-Based Reading and Writing', 'Math',\n",
       "       'Total'],\n",
       "      dtype='object')"
      ]
     },
     "execution_count": 133,
     "metadata": {},
     "output_type": "execute_result"
    }
   ],
   "source": [
    "sat_2017.columns"
   ]
  },
  {
   "cell_type": "code",
   "execution_count": 134,
   "metadata": {},
   "outputs": [
    {
     "data": {
      "text/plain": [
       "Index(['State', 'Participation', 'English', 'Math', 'Reading', 'Science',\n",
       "       'Composite'],\n",
       "      dtype='object')"
      ]
     },
     "execution_count": 134,
     "metadata": {},
     "output_type": "execute_result"
    }
   ],
   "source": [
    "act_2017.columns"
   ]
  },
  {
   "cell_type": "code",
   "execution_count": 135,
   "metadata": {},
   "outputs": [],
   "source": [
    "# Change all the column names to lowercase\n",
    "name_change_dict_sat = {'State':'state',\n",
    "                        'Participation':'participation',\n",
    "                        'Evidence-Based Reading and Writing':'reasoning',\n",
    "                        'Math':'math',\n",
    "                        'Total':'total'}\n",
    "name_change_dict_act = {'State':'state',\n",
    "                        'Participation':'participation',\n",
    "                        'English':'english',\n",
    "                        'Math':'math',\n",
    "                        'Reading':'reading',\n",
    "                        'Science':'science',\n",
    "                        'Composite':'Composite'.lower()}"
   ]
  },
  {
   "cell_type": "code",
   "execution_count": 136,
   "metadata": {},
   "outputs": [],
   "source": [
    "sat_2017.rename(columns=name_change_dict_sat, inplace = True)"
   ]
  },
  {
   "cell_type": "code",
   "execution_count": 137,
   "metadata": {},
   "outputs": [],
   "source": [
    "act_2017.rename(columns=name_change_dict_act, inplace = True)"
   ]
  },
  {
   "cell_type": "code",
   "execution_count": 138,
   "metadata": {},
   "outputs": [],
   "source": [
    "#code\n",
    "sat_2017.loc[sat_2017['state'] == 'Maryland','math'] = sat_2017.loc[sat_2017['state'] == 'Maryland','total'] - sat_2017.loc[sat_2017['state'] == 'Maryland']['reasoning']\n"
   ]
  },
  {
   "cell_type": "code",
   "execution_count": 139,
   "metadata": {},
   "outputs": [
    {
     "data": {
      "text/html": [
       "<div>\n",
       "<style scoped>\n",
       "    .dataframe tbody tr th:only-of-type {\n",
       "        vertical-align: middle;\n",
       "    }\n",
       "\n",
       "    .dataframe tbody tr th {\n",
       "        vertical-align: top;\n",
       "    }\n",
       "\n",
       "    .dataframe thead th {\n",
       "        text-align: right;\n",
       "    }\n",
       "</style>\n",
       "<table border=\"1\" class=\"dataframe\">\n",
       "  <thead>\n",
       "    <tr style=\"text-align: right;\">\n",
       "      <th></th>\n",
       "      <th>state</th>\n",
       "      <th>participation</th>\n",
       "      <th>reasoning</th>\n",
       "      <th>math</th>\n",
       "      <th>total</th>\n",
       "    </tr>\n",
       "  </thead>\n",
       "  <tbody>\n",
       "    <tr>\n",
       "      <td>20</td>\n",
       "      <td>Maryland</td>\n",
       "      <td>69%</td>\n",
       "      <td>536</td>\n",
       "      <td>524</td>\n",
       "      <td>1060</td>\n",
       "    </tr>\n",
       "  </tbody>\n",
       "</table>\n",
       "</div>"
      ],
      "text/plain": [
       "       state participation  reasoning  math  total\n",
       "20  Maryland           69%        536   524   1060"
      ]
     },
     "execution_count": 139,
     "metadata": {},
     "output_type": "execute_result"
    }
   ],
   "source": [
    "sat_2017.loc[sat_2017['state']=='Maryland',:]"
   ]
  },
  {
   "cell_type": "code",
   "execution_count": 140,
   "metadata": {},
   "outputs": [
    {
     "data": {
      "text/plain": [
       "20    524\n",
       "Name: math, dtype: int64"
      ]
     },
     "execution_count": 140,
     "metadata": {},
     "output_type": "execute_result"
    }
   ],
   "source": [
    "sat_2017.loc[sat_2017['state'] == 'Maryland' , 'math']"
   ]
  },
  {
   "cell_type": "markdown",
   "metadata": {},
   "source": [
    "#### 5. What are your data types? \n",
    "Display the data types of each feature. "
   ]
  },
  {
   "cell_type": "code",
   "execution_count": 141,
   "metadata": {},
   "outputs": [
    {
     "data": {
      "text/plain": [
       "state            object\n",
       "participation    object\n",
       "reasoning         int64\n",
       "math              int64\n",
       "total             int64\n",
       "dtype: object"
      ]
     },
     "execution_count": 141,
     "metadata": {},
     "output_type": "execute_result"
    }
   ],
   "source": [
    "#Checking the datatypes\n",
    "sat_2017.dtypes"
   ]
  },
  {
   "cell_type": "code",
   "execution_count": 142,
   "metadata": {},
   "outputs": [
    {
     "data": {
      "text/plain": [
       "state             object\n",
       "participation     object\n",
       "english          float64\n",
       "math             float64\n",
       "reading          float64\n",
       "science          float64\n",
       "composite         object\n",
       "dtype: object"
      ]
     },
     "execution_count": 142,
     "metadata": {},
     "output_type": "execute_result"
    }
   ],
   "source": [
    "# Checking the datatype\n",
    "act_2017.dtypes"
   ]
  },
  {
   "cell_type": "markdown",
   "metadata": {},
   "source": [
    "Note (added by Uday): It will be good to change `participation` column to have float type without % sign. Also, `composite` needs to be changed to a float data type "
   ]
  },
  {
   "cell_type": "markdown",
   "metadata": {},
   "source": [
    "What did you learn?\n",
    "- Do any of them seem odd?  \n",
    "- Which ones are not as they should be?  "
   ]
  },
  {
   "cell_type": "markdown",
   "metadata": {},
   "source": [
    "Answer: The 'Composite' column in act_2017.csv should be numerical data of type float but it appers to be an object. We can also change the percentage columns in both of the data sets to float type from object which would also require removing the % sign. "
   ]
  },
  {
   "cell_type": "markdown",
   "metadata": {},
   "source": [
    "#### 6. Fix Incorrect Data Types\n",
    "Based on what you discovered above, use appropriate methods to re-type incorrectly typed data.\n",
    "- Define a function that will allow you to convert participation rates to an appropriate numeric type. Use `map` or `apply` to change these columns in each dataframe."
   ]
  },
  {
   "cell_type": "code",
   "execution_count": 143,
   "metadata": {},
   "outputs": [],
   "source": [
    "# Removing the percentage signs and changing the strings to floaat\n",
    "\n",
    "percent_change_function = lambda change_percent : float(change_percent.replace('%',''))\n",
    "sat_2017['participation'] = sat_2017['participation'].map(percent_change_function)\n",
    "act_2017['participation'] = act_2017['participation'].map(percent_change_function)"
   ]
  },
  {
   "cell_type": "code",
   "execution_count": 144,
   "metadata": {},
   "outputs": [],
   "source": [
    "# Function to identify non numeric strings in a column (composite) and change the incorrect ones to NaN\n",
    "def change_dtype_of_composite(value):\n",
    "    try:\n",
    "        return round(float(value),1)\n",
    "    except:\n",
    "        return float(np.nan)\n",
    "act_2017['composite'] = act_2017['composite'].map(change_dtype_of_composite)"
   ]
  },
  {
   "cell_type": "code",
   "execution_count": 145,
   "metadata": {},
   "outputs": [
    {
     "data": {
      "text/plain": [
       "state            0\n",
       "participation    0\n",
       "english          0\n",
       "math             0\n",
       "reading          0\n",
       "science          0\n",
       "composite        1\n",
       "dtype: int64"
      ]
     },
     "execution_count": 145,
     "metadata": {},
     "output_type": "execute_result"
    }
   ],
   "source": [
    "# Checking for null type elsewhere\n",
    "act_2017.isnull().sum()"
   ]
  },
  {
   "cell_type": "markdown",
   "metadata": {},
   "source": [
    "- Fix any individual values preventing other columns from being the appropriate type."
   ]
  },
  {
   "cell_type": "code",
   "execution_count": 25,
   "metadata": {},
   "outputs": [
    {
     "name": "stdout",
     "output_type": "stream",
     "text": [
      "The null values in composite column of ACT is fixed.\n",
      "[51] 20.2\n",
      "National\n",
      "anomaly at 0 row in 'composite' column. but fixed\n",
      "Old average = 21.0; New average = 20.8\n",
      "\n",
      "Alabama\n",
      "anomaly at 1 row in 'composite' column. but fixed\n",
      "Old average = 19.2; New average = 19.1\n",
      "\n",
      "Alaska\n",
      "anomaly at 2 row in 'composite' column. but fixed\n",
      "Old average = 19.8; New average = 19.7\n",
      "\n",
      "Arizona\n",
      "anomaly at 3 row in 'composite' column. but fixed\n",
      "Old average = 19.7; New average = 19.6\n",
      "\n",
      "Arkansas\n",
      "anomaly at 4 row in 'composite' column. but fixed\n",
      "Old average = 19.4; New average = 19.3\n",
      "\n",
      "California\n",
      "anomaly at 5 row in 'composite' column. but fixed\n",
      "Old average = 22.8; New average = 22.6\n",
      "\n",
      "Colorado\n",
      "anomaly at 6 row in 'composite' column. but fixed\n",
      "Old average = 20.8; New average = 20.6\n",
      "\n",
      "Connecticut\n",
      "anomaly at 7 row in 'composite' column. but fixed\n",
      "Old average = 25.2; New average = 25.1\n",
      "\n",
      "Delaware\n",
      "anomaly at 8 row in 'composite' column. but fixed\n",
      "Old average = 24.1; New average = 24.0\n",
      "\n",
      "District of Columbia\n",
      "anomaly at 9 row in 'composite' column. but fixed\n",
      "Old average = 24.2; New average = 24.1\n",
      "\n",
      "Florida\n",
      "anomaly at 10 row in 'composite' column. but fixed\n",
      "Old average = 19.8; New average = 19.7\n",
      "\n",
      "Georgia\n",
      "anomaly at 11 row in 'composite' column. but fixed\n",
      "Old average = 21.4; New average = 21.3\n",
      "\n",
      "Hawaii\n",
      "anomaly at 12 row in 'composite' column. but fixed\n",
      "Old average = 19.0; New average = 18.9\n",
      "\n",
      "Idaho\n",
      "anomaly at 13 row in 'composite' column. but fixed\n",
      "Old average = 22.3; New average = 22.2\n",
      "\n",
      "Illinois\n",
      "anomaly at 14 row in 'composite' column. but fixed\n",
      "Old average = 21.4; New average = 21.3\n",
      "\n",
      "Indiana\n",
      "anomaly at 15 row in 'composite' column. but fixed\n",
      "Old average = 22.6; New average = 22.5\n",
      "\n",
      "Iowa\n",
      "anomaly at 16 row in 'composite' column. but fixed\n",
      "Old average = 21.9; New average = 21.8\n",
      "\n",
      "Kansas\n",
      "anomaly at 17 row in 'composite' column. but fixed\n",
      "Old average = 21.7; New average = 21.6\n",
      "\n",
      "Kentucky\n",
      "anomaly at 18 row in 'composite' column. but fixed\n",
      "Old average = 20.0; New average = 19.9\n",
      "\n",
      "Louisiana\n",
      "anomaly at 19 row in 'composite' column. but fixed\n",
      "Old average = 19.5; New average = 19.4\n",
      "\n",
      "Maine\n",
      "anomaly at 20 row in 'composite' column. but fixed\n",
      "Old average = 24.3; New average = 24.2\n",
      "\n",
      "Maryland\n",
      "anomaly at 21 row in 'composite' column. but fixed\n",
      "Old average = 23.6; New average = 18.2\n",
      "\n",
      "Massachusetts\n",
      "anomaly at 22 row in 'composite' column. but fixed\n",
      "Old average = 25.4; New average = 25.3\n",
      "\n",
      "Michigan\n",
      "anomaly at 23 row in 'composite' column. but fixed\n",
      "Old average = 24.1; New average = 24.0\n",
      "\n",
      "Minnesota\n",
      "anomaly at 24 row in 'composite' column. but fixed\n",
      "Old average = 21.5; New average = 21.3\n",
      "\n",
      "Mississippi\n",
      "anomaly at 25 row in 'composite' column. but fixed\n",
      "Old average = 18.6; New average = 18.5\n",
      "\n",
      "Missouri\n",
      "anomaly at 26 row in 'composite' column. but fixed\n",
      "Old average = 20.4; New average = 20.2\n",
      "\n",
      "Montana\n",
      "anomaly at 27 row in 'composite' column. but fixed\n",
      "Old average = 20.3; New average = 20.2\n",
      "\n",
      "Nebraska\n",
      "anomaly at 28 row in 'composite' column. but fixed\n",
      "Old average = 21.4; New average = 21.3\n",
      "\n",
      "Nevada\n",
      "anomaly at 29 row in 'composite' column. but fixed\n",
      "Old average = 17.8; New average = 17.6\n",
      "\n",
      "New Hampshire\n",
      "anomaly at 30 row in 'composite' column. but fixed\n",
      "Old average = 25.5; New average = 25.4\n",
      "\n",
      "New Jersey\n",
      "anomaly at 31 row in 'composite' column. but fixed\n",
      "Old average = 23.9; New average = 23.7\n",
      "\n",
      "New Mexico\n",
      "anomaly at 32 row in 'composite' column. but fixed\n",
      "Old average = 19.7; New average = 19.6\n",
      "\n",
      "New York\n",
      "anomaly at 33 row in 'composite' column. but fixed\n",
      "Old average = 24.2; New average = 24.1\n",
      "\n",
      "North Carolina\n",
      "anomaly at 34 row in 'composite' column. but fixed\n",
      "Old average = 19.1; New average = 19.0\n",
      "\n",
      "North Dakota\n",
      "anomaly at 35 row in 'composite' column. but fixed\n",
      "Old average = 20.3; New average = 20.1\n",
      "\n",
      "Ohio\n",
      "anomaly at 36 row in 'composite' column. but fixed\n",
      "Old average = 22.0; New average = 21.8\n",
      "\n",
      "Oklahoma\n",
      "anomaly at 37 row in 'composite' column. but fixed\n",
      "Old average = 19.4; New average = 19.2\n",
      "\n",
      "Oregon\n",
      "anomaly at 38 row in 'composite' column. but fixed\n",
      "Old average = 21.8; New average = 21.7\n",
      "\n",
      "Pennsylvania\n",
      "anomaly at 39 row in 'composite' column. but fixed\n",
      "Old average = 23.7; New average = 23.6\n",
      "\n",
      "Rhode Island\n",
      "anomaly at 40 row in 'composite' column. but fixed\n",
      "Old average = 24.0; New average = 23.8\n",
      "\n",
      "South Carolina\n",
      "anomaly at 41 row in 'composite' column. but fixed\n",
      "Old average = 18.7; New average = 18.5\n",
      "\n",
      "South Dakota\n",
      "anomaly at 42 row in 'composite' column. but fixed\n",
      "Old average = 21.8; New average = 21.6\n",
      "\n",
      "Tennessee\n",
      "anomaly at 43 row in 'composite' column. but fixed\n",
      "Old average = 19.8; New average = 19.7\n",
      "\n",
      "Texas\n",
      "anomaly at 44 row in 'composite' column. but fixed\n",
      "Old average = 20.7; New average = 20.6\n",
      "\n",
      "Utah\n",
      "anomaly at 45 row in 'composite' column. but fixed\n",
      "Old average = 20.3; New average = 20.2\n",
      "\n",
      "Vermont\n",
      "anomaly at 46 row in 'composite' column. but fixed\n",
      "Old average = 23.6; New average = 23.5\n",
      "\n",
      "Virginia\n",
      "anomaly at 47 row in 'composite' column. but fixed\n",
      "Old average = 23.8; New average = 23.7\n",
      "\n",
      "Washington\n",
      "anomaly at 48 row in 'composite' column. but fixed\n",
      "Old average = 21.9; New average = 21.7\n",
      "\n",
      "West Virginia\n",
      "anomaly at 49 row in 'composite' column. but fixed\n",
      "Old average = 20.4; New average = 20.3\n",
      "\n",
      "Wisconsin\n",
      "anomaly at 50 row in 'composite' column. but fixed\n",
      "Old average = 20.5; New average = 20.4\n",
      "\n"
     ]
    },
    {
     "name": "stderr",
     "output_type": "stream",
     "text": [
      "//anaconda3/lib/python3.7/site-packages/numpy/core/fromnumeric.py:61: FutureWarning: Series.nonzero() is deprecated and will be removed in a future version.Use Series.to_numpy().nonzero() instead\n",
      "  return bound(*args, **kwds)\n"
     ]
    }
   ],
   "source": [
    "# Changing the NaN values to average based on other subject grades.\n",
    "# Also, checking if the averages are correct for all rows\n",
    "\n",
    "for idx in np.argwhere(act_2017['composite'].isnull()):\n",
    "    act_2017.loc[idx,'composite'] = round( (act_2017.loc[idx,'math'] + act_2017.loc[idx,'english'] + act_2017.loc[idx,'science'] + act_2017.loc[idx,'reading']) / 4.0,1)\n",
    "    print(\"The null values in composite column of ACT is fixed.\")\n",
    "    print(idx,act_2017.loc[idx[0],'composite'])\n",
    "\n",
    "for idx in act_2017['composite'].index:\n",
    "    sum_composite = round( (act_2017.loc[idx,'math'] + act_2017.loc[idx,'english'] + act_2017.loc[idx,'science'] + act_2017.loc[idx,'reading']) / 4.0,1)\n",
    "    old_average = act_2017.loc[idx,'composite']\n",
    "    if (sum_composite != old_average):\n",
    "        print(act_2017.loc[idx,'state'])\n",
    "        print(f'anomaly at {idx} row in \\'composite\\' column. but fixed')\n",
    "        print(f\"Old average = {old_average}; New average = {sum_composite}\\n\")\n",
    "        act_2017.loc[idx,'composite'] = sum_composite"
   ]
  },
  {
   "cell_type": "code",
   "execution_count": 26,
   "metadata": {},
   "outputs": [
    {
     "data": {
      "text/plain": [
       "state            0\n",
       "participation    0\n",
       "reasoning        0\n",
       "math             0\n",
       "total            0\n",
       "dtype: int64"
      ]
     },
     "execution_count": 26,
     "metadata": {},
     "output_type": "execute_result"
    }
   ],
   "source": [
    "# Checking for NaN in SAT and making sure the total sums up\n",
    "sat_2017.isnull().sum()"
   ]
  },
  {
   "cell_type": "code",
   "execution_count": 27,
   "metadata": {},
   "outputs": [
    {
     "name": "stdout",
     "output_type": "stream",
     "text": [
      "\n",
      "Connecticut\n",
      "anomaly at 6 row in 'total' column. but fixed\n",
      "Old total = 1041; New total = 1042\n",
      "\n",
      "Delaware\n",
      "anomaly at 7 row in 'total' column. but fixed\n",
      "Old total = 996.0; New total = 995\n",
      "\n",
      "Idaho\n",
      "anomaly at 12 row in 'total' column. but fixed\n",
      "Old total = 1005.0; New total = 1006\n",
      "\n",
      "Iowa\n",
      "anomaly at 15 row in 'total' column. but fixed\n",
      "Old total = 1275.0; New total = 1276\n",
      "\n",
      "Louisiana\n",
      "anomaly at 18 row in 'total' column. but fixed\n",
      "Old total = 1198.0; New total = 1197\n",
      "\n",
      "Massachusetts\n",
      "anomaly at 21 row in 'total' column. but fixed\n",
      "Old total = 1107.0; New total = 1106\n",
      "\n",
      "Michigan\n",
      "anomaly at 22 row in 'total' column. but fixed\n",
      "Old total = 1005.0; New total = 1004\n",
      "\n",
      "Mississippi\n",
      "anomaly at 24 row in 'total' column. but fixed\n",
      "Old total = 1242.0; New total = 1241\n",
      "\n",
      "Nebraska\n",
      "anomaly at 27 row in 'total' column. but fixed\n",
      "Old total = 1253.0; New total = 1254\n",
      "\n",
      "New York\n",
      "anomaly at 32 row in 'total' column. but fixed\n",
      "Old total = 1052.0; New total = 1051\n",
      "\n",
      "Ohio\n",
      "anomaly at 35 row in 'total' column. but fixed\n",
      "Old total = 1149.0; New total = 1148\n",
      "\n",
      "Rhode Island\n",
      "anomaly at 39 row in 'total' column. but fixed\n",
      "Old total = 1062.0; New total = 1063\n",
      "\n",
      "South Dakota\n",
      "anomaly at 41 row in 'total' column. but fixed\n",
      "Old total = 1216.0; New total = 1215\n",
      "\n",
      "Tennessee\n",
      "anomaly at 42 row in 'total' column. but fixed\n",
      "Old total = 1228.0; New total = 1227\n",
      "\n",
      "Vermont\n",
      "anomaly at 45 row in 'total' column. but fixed\n",
      "Old total = 1114.0; New total = 1113\n"
     ]
    }
   ],
   "source": [
    "# Checking if the SAT totals add up\n",
    "for idx in sat_2017['total'].index:\n",
    "    sum_new = round( (sat_2017.loc[idx,'math'] + sat_2017.loc[idx,'reasoning']))\n",
    "    sum_old = sat_2017.loc[idx,'total']\n",
    "    if (sum_old != sum_new):\n",
    "        print()\n",
    "        print(sat_2017.loc[idx,'state'])\n",
    "        print(f'anomaly at {idx} row in \\'total\\' column. but fixed')\n",
    "        print(f\"Old total = {sum_old}; New total = {sum_new}\")\n",
    "        sat_2017.loc[idx,'total'] = float(sum_new)"
   ]
  },
  {
   "cell_type": "markdown",
   "metadata": {},
   "source": [
    "- Finish your data modifications by making sure the columns are now typed appropriately."
   ]
  },
  {
   "cell_type": "code",
   "execution_count": 28,
   "metadata": {},
   "outputs": [
    {
     "data": {
      "text/plain": [
       "state             object\n",
       "participation    float64\n",
       "english          float64\n",
       "math             float64\n",
       "reading          float64\n",
       "science          float64\n",
       "composite        float64\n",
       "dtype: object"
      ]
     },
     "execution_count": 28,
     "metadata": {},
     "output_type": "execute_result"
    }
   ],
   "source": [
    "#Ensuring the data types are appropriate\n",
    "act_2017.dtypes"
   ]
  },
  {
   "cell_type": "code",
   "execution_count": 29,
   "metadata": {},
   "outputs": [
    {
     "data": {
      "text/plain": [
       "state             object\n",
       "participation    float64\n",
       "reasoning          int64\n",
       "math               int64\n",
       "total            float64\n",
       "dtype: object"
      ]
     },
     "execution_count": 29,
     "metadata": {},
     "output_type": "execute_result"
    }
   ],
   "source": [
    "sat_2017.dtypes"
   ]
  },
  {
   "cell_type": "markdown",
   "metadata": {},
   "source": [
    "- Display the data types again to confirm they are correct."
   ]
  },
  {
   "cell_type": "code",
   "execution_count": 30,
   "metadata": {},
   "outputs": [],
   "source": [
    "#Code:"
   ]
  },
  {
   "cell_type": "markdown",
   "metadata": {},
   "source": [
    "#### 7. Rename Columns\n",
    "Change the names of the columns to more expressive names so that you can tell the difference the SAT columns and the ACT columns. Your solution should map all column names being changed at once (no repeated singular name-changes). **We will be combining these data with some of the data from 2018, and so you should name columns in an appropriate way**.\n",
    "\n",
    "**Guidelines**:\n",
    "- Column names should be all lowercase (you will thank yourself when you start pushing data to SQL later in the course)\n",
    "- Column names should not contain spaces (underscores will suffice--this allows for using the `df.column_name` method to access columns in addition to `df['column_name']`.\n",
    "- Column names should be unique and informative (the only feature that we actually share between dataframes is the state)."
   ]
  },
  {
   "cell_type": "code",
   "execution_count": 31,
   "metadata": {},
   "outputs": [
    {
     "data": {
      "text/plain": [
       "Index(['state', 'participation', 'english', 'math', 'reading', 'science',\n",
       "       'composite'],\n",
       "      dtype='object')"
      ]
     },
     "execution_count": 31,
     "metadata": {},
     "output_type": "execute_result"
    }
   ],
   "source": [
    "# The names were changed in an earlier section, they are printed out here for clarity.\n",
    "act_2017.columns"
   ]
  },
  {
   "cell_type": "code",
   "execution_count": 32,
   "metadata": {},
   "outputs": [
    {
     "data": {
      "text/plain": [
       "Index(['state', 'participation', 'reasoning', 'math', 'total'], dtype='object')"
      ]
     },
     "execution_count": 32,
     "metadata": {},
     "output_type": "execute_result"
    }
   ],
   "source": [
    "sat_2017.columns"
   ]
  },
  {
   "cell_type": "markdown",
   "metadata": {},
   "source": [
    "#### 8. Create a data dictionary\n",
    "\n",
    "Now that we've fixed our data, and given it appropriate names, let's create a [data dictionary](http://library.ucmerced.edu/node/10249). \n",
    "\n",
    "A data dictionary provides a quick overview of features/variables/columns, alongside data types and descriptions. The more descriptive you can be, the more useful this document is.\n",
    "\n",
    "Example of a Fictional Data Dictionary Entry: \n",
    "\n",
    "|Feature|Type|Dataset|Description|\n",
    "|---|---|---|---|\n",
    "|**county_pop**|*integer*|2010 census|The population of the county (units in thousands, where 2.5 represents 2500 people).| \n",
    "|**per_poverty**|*float*|2010 census|The percent of the county over the age of 18 living below the 200% of official US poverty rate (units percent to two decimal places 98.10 means 98.1%)|\n",
    "\n",
    "[Here's a quick link to a short guide for formatting markdown in Jupyter notebooks](https://jupyter-notebook.readthedocs.io/en/stable/examples/Notebook/Working%20With%20Markdown%20Cells.html).\n",
    "\n",
    "Provided is the skeleton for formatting a markdown table, with columns headers that will help you create a data dictionary to quickly summarize your data, as well as some examples. **This would be a great thing to copy and paste into your custom README for this project.**"
   ]
  },
  {
   "cell_type": "markdown",
   "metadata": {},
   "source": [
    "|Column Name|Type|Dataset|Description|\n",
    "|---|---|---|---|\n",
    "|state|object|ACT/SAT|The state of consideration, e.g. \"Maryland\"|\n",
    "|---|---|---|---|\n",
    "|math|float64|ACT|Score on a scale of 1-36 in Mathematics with a minimum possible score of 1.|\n",
    "|english|float64|ACT|Score on a scale of 1-36 in English with a minimum possible score of 1.|\n",
    "|reading|float64|ACT|Score on a scale of 1-36 in Reading with a minimum possible score of 1.|\n",
    "|science|float64|ACT|Score on a scale of 1-36 in Science with a minimum possible score of 1.|\n",
    "|composite|float64|ACT|Average of the four subject scores on a scale of 1-36 with a minimum possible score of 1.|\n",
    "|---|---|---|---|\n",
    "|math|int64|SAT|Score on a scale of 800 in Mathematics with a minimum possible score of 200.|\n",
    "|reasoning|int64|SAT|Score on a scale of 800 in Evidence Based Reading and Writing with a minimum possible score of 200.|\n",
    "|math|int64|SAT|Score on a scale of 800 with a minimum possible score of 200.|"
   ]
  },
  {
   "cell_type": "markdown",
   "metadata": {},
   "source": [
    "#### 9. Drop unnecessary rows\n",
    "\n",
    "One of our dataframes contains an extra row. Identify and remove this from the dataframe."
   ]
  },
  {
   "cell_type": "code",
   "execution_count": 33,
   "metadata": {},
   "outputs": [
    {
     "data": {
      "text/plain": [
       "{'National'}"
      ]
     },
     "execution_count": 33,
     "metadata": {},
     "output_type": "execute_result"
    }
   ],
   "source": [
    "#The row was identified earlier and put into a variable missing_state\n",
    "missing_state"
   ]
  },
  {
   "cell_type": "code",
   "execution_count": 34,
   "metadata": {},
   "outputs": [
    {
     "data": {
      "text/plain": [
       "'National'"
      ]
     },
     "execution_count": 34,
     "metadata": {},
     "output_type": "execute_result"
    }
   ],
   "source": [
    "missing_state_name = missing_state.pop()\n",
    "missing_state_name"
   ]
  },
  {
   "cell_type": "code",
   "execution_count": 35,
   "metadata": {},
   "outputs": [
    {
     "data": {
      "text/plain": [
       "(52, 7)"
      ]
     },
     "execution_count": 35,
     "metadata": {},
     "output_type": "execute_result"
    }
   ],
   "source": [
    "act_2017.shape# Has the extra row"
   ]
  },
  {
   "cell_type": "code",
   "execution_count": 36,
   "metadata": {},
   "outputs": [
    {
     "data": {
      "text/plain": [
       "(51, 5)"
      ]
     },
     "execution_count": 36,
     "metadata": {},
     "output_type": "execute_result"
    }
   ],
   "source": [
    "sat_2017.shape"
   ]
  },
  {
   "cell_type": "code",
   "execution_count": 37,
   "metadata": {},
   "outputs": [],
   "source": [
    "act_2017.drop(act_2017.loc[act_2017['state']==missing_state_name, :].index,axis = 0,inplace = True)"
   ]
  },
  {
   "cell_type": "code",
   "execution_count": null,
   "metadata": {},
   "outputs": [],
   "source": []
  },
  {
   "cell_type": "markdown",
   "metadata": {},
   "source": [
    "#### 10. Merge Dataframes\n",
    "\n",
    "Join the 2017 ACT and SAT dataframes using the state in each dataframe as the key. Assign this to a new variable."
   ]
  },
  {
   "cell_type": "code",
   "execution_count": 38,
   "metadata": {},
   "outputs": [],
   "source": [
    "#Correcting the indices of data frames\n",
    "act_2017.reset_index(drop=True,inplace=True)"
   ]
  },
  {
   "cell_type": "code",
   "execution_count": 39,
   "metadata": {},
   "outputs": [],
   "source": [
    "#Merging and making sure the names have appropriate suffix\n",
    "df_score_2017 = act_2017.merge(sat_2017,left_on='state', right_on='state',suffixes = ('_act','_sat'))"
   ]
  },
  {
   "cell_type": "code",
   "execution_count": 40,
   "metadata": {},
   "outputs": [
    {
     "data": {
      "text/html": [
       "<div>\n",
       "<style scoped>\n",
       "    .dataframe tbody tr th:only-of-type {\n",
       "        vertical-align: middle;\n",
       "    }\n",
       "\n",
       "    .dataframe tbody tr th {\n",
       "        vertical-align: top;\n",
       "    }\n",
       "\n",
       "    .dataframe thead th {\n",
       "        text-align: right;\n",
       "    }\n",
       "</style>\n",
       "<table border=\"1\" class=\"dataframe\">\n",
       "  <thead>\n",
       "    <tr style=\"text-align: right;\">\n",
       "      <th></th>\n",
       "      <th>state</th>\n",
       "      <th>participation_act</th>\n",
       "      <th>english</th>\n",
       "      <th>math_act</th>\n",
       "      <th>reading</th>\n",
       "      <th>science</th>\n",
       "      <th>composite</th>\n",
       "      <th>participation_sat</th>\n",
       "      <th>reasoning</th>\n",
       "      <th>math_sat</th>\n",
       "      <th>total</th>\n",
       "    </tr>\n",
       "  </thead>\n",
       "  <tbody>\n",
       "    <tr>\n",
       "      <td>0</td>\n",
       "      <td>Alabama</td>\n",
       "      <td>100.0</td>\n",
       "      <td>18.9</td>\n",
       "      <td>18.4</td>\n",
       "      <td>19.7</td>\n",
       "      <td>19.4</td>\n",
       "      <td>19.1</td>\n",
       "      <td>5.0</td>\n",
       "      <td>593</td>\n",
       "      <td>572</td>\n",
       "      <td>1165.0</td>\n",
       "    </tr>\n",
       "    <tr>\n",
       "      <td>1</td>\n",
       "      <td>Alaska</td>\n",
       "      <td>65.0</td>\n",
       "      <td>18.7</td>\n",
       "      <td>19.8</td>\n",
       "      <td>20.4</td>\n",
       "      <td>19.9</td>\n",
       "      <td>19.7</td>\n",
       "      <td>38.0</td>\n",
       "      <td>547</td>\n",
       "      <td>533</td>\n",
       "      <td>1080.0</td>\n",
       "    </tr>\n",
       "    <tr>\n",
       "      <td>2</td>\n",
       "      <td>Arizona</td>\n",
       "      <td>62.0</td>\n",
       "      <td>18.6</td>\n",
       "      <td>19.8</td>\n",
       "      <td>20.1</td>\n",
       "      <td>19.8</td>\n",
       "      <td>19.6</td>\n",
       "      <td>30.0</td>\n",
       "      <td>563</td>\n",
       "      <td>553</td>\n",
       "      <td>1116.0</td>\n",
       "    </tr>\n",
       "    <tr>\n",
       "      <td>3</td>\n",
       "      <td>Arkansas</td>\n",
       "      <td>100.0</td>\n",
       "      <td>18.9</td>\n",
       "      <td>19.0</td>\n",
       "      <td>19.7</td>\n",
       "      <td>19.5</td>\n",
       "      <td>19.3</td>\n",
       "      <td>3.0</td>\n",
       "      <td>614</td>\n",
       "      <td>594</td>\n",
       "      <td>1208.0</td>\n",
       "    </tr>\n",
       "    <tr>\n",
       "      <td>4</td>\n",
       "      <td>California</td>\n",
       "      <td>31.0</td>\n",
       "      <td>22.5</td>\n",
       "      <td>22.7</td>\n",
       "      <td>23.1</td>\n",
       "      <td>22.2</td>\n",
       "      <td>22.6</td>\n",
       "      <td>53.0</td>\n",
       "      <td>531</td>\n",
       "      <td>524</td>\n",
       "      <td>1055.0</td>\n",
       "    </tr>\n",
       "  </tbody>\n",
       "</table>\n",
       "</div>"
      ],
      "text/plain": [
       "        state  participation_act  english  math_act  reading  science  \\\n",
       "0     Alabama              100.0     18.9      18.4     19.7     19.4   \n",
       "1      Alaska               65.0     18.7      19.8     20.4     19.9   \n",
       "2     Arizona               62.0     18.6      19.8     20.1     19.8   \n",
       "3    Arkansas              100.0     18.9      19.0     19.7     19.5   \n",
       "4  California               31.0     22.5      22.7     23.1     22.2   \n",
       "\n",
       "   composite  participation_sat  reasoning  math_sat   total  \n",
       "0       19.1                5.0        593       572  1165.0  \n",
       "1       19.7               38.0        547       533  1080.0  \n",
       "2       19.6               30.0        563       553  1116.0  \n",
       "3       19.3                3.0        614       594  1208.0  \n",
       "4       22.6               53.0        531       524  1055.0  "
      ]
     },
     "execution_count": 40,
     "metadata": {},
     "output_type": "execute_result"
    }
   ],
   "source": [
    "df_score_2017.head()"
   ]
  },
  {
   "cell_type": "markdown",
   "metadata": {},
   "source": [
    "#### 11. Save your cleaned, merged dataframe\n",
    "\n",
    "Use a relative path to save out your data as `combined_2017.csv`."
   ]
  },
  {
   "cell_type": "code",
   "execution_count": 41,
   "metadata": {},
   "outputs": [],
   "source": [
    "df_score_2017.to_csv('./../data/combined_2017.csv')"
   ]
  },
  {
   "cell_type": "markdown",
   "metadata": {},
   "source": [
    "## 2018 Data Import and Cleaning"
   ]
  },
  {
   "cell_type": "markdown",
   "metadata": {},
   "source": [
    "Links to the 2018 ACT and SAT data are provided in the README. These data live in PDFs, and so you'll get to enjoy practicing some *manual* data collection. Save these data as a CSV in your `data` directory, and import, explore, and clean these data in the same way you did above. **Make sure you comment on your steps so it is clear *why* you are doing each process**."
   ]
  },
  {
   "cell_type": "code",
   "execution_count": 42,
   "metadata": {},
   "outputs": [],
   "source": [
    "act_2018 = pd.read_csv('./../data/act_2018.csv')\n",
    "sat_2018 = pd.read_csv('./../data/sat_2018.csv')"
   ]
  },
  {
   "cell_type": "code",
   "execution_count": 43,
   "metadata": {},
   "outputs": [
    {
     "name": "stdout",
     "output_type": "stream",
     "text": [
      "(51, 5) (52, 3)\n"
     ]
    }
   ],
   "source": [
    "print(sat_2018.shape, act_2018.shape) # Seeing if there is any difference in number of rows or states"
   ]
  },
  {
   "cell_type": "code",
   "execution_count": 44,
   "metadata": {},
   "outputs": [
    {
     "name": "stdout",
     "output_type": "stream",
     "text": [
      "Index(['State', 'Participation', 'Evidence-Based Reading and Writing', 'Math',\n",
      "       'Total'],\n",
      "      dtype='object') Index(['State', 'Participation', 'Composite'], dtype='object')\n"
     ]
    }
   ],
   "source": [
    "print(sat_2018.columns,act_2018.columns) # Column names ahead of changing them to lowercase"
   ]
  },
  {
   "cell_type": "code",
   "execution_count": 45,
   "metadata": {},
   "outputs": [],
   "source": [
    "# Using the dictionaries from before to change the names to appropriate lowercase names\n",
    "# The original files have same names in 2017 and 2018\n",
    "act_2018.rename(columns=name_change_dict_act, inplace = True)\n",
    "sat_2018.rename(columns=name_change_dict_sat, inplace = True)"
   ]
  },
  {
   "cell_type": "code",
   "execution_count": 46,
   "metadata": {},
   "outputs": [
    {
     "data": {
      "text/html": [
       "<div>\n",
       "<style scoped>\n",
       "    .dataframe tbody tr th:only-of-type {\n",
       "        vertical-align: middle;\n",
       "    }\n",
       "\n",
       "    .dataframe tbody tr th {\n",
       "        vertical-align: top;\n",
       "    }\n",
       "\n",
       "    .dataframe thead th {\n",
       "        text-align: right;\n",
       "    }\n",
       "</style>\n",
       "<table border=\"1\" class=\"dataframe\">\n",
       "  <thead>\n",
       "    <tr style=\"text-align: right;\">\n",
       "      <th></th>\n",
       "      <th>reasoning</th>\n",
       "      <th>math</th>\n",
       "      <th>total</th>\n",
       "    </tr>\n",
       "  </thead>\n",
       "  <tbody>\n",
       "    <tr>\n",
       "      <td>count</td>\n",
       "      <td>51.000000</td>\n",
       "      <td>51.000000</td>\n",
       "      <td>51.000000</td>\n",
       "    </tr>\n",
       "    <tr>\n",
       "      <td>mean</td>\n",
       "      <td>563.686275</td>\n",
       "      <td>556.235294</td>\n",
       "      <td>1120.019608</td>\n",
       "    </tr>\n",
       "    <tr>\n",
       "      <td>std</td>\n",
       "      <td>47.502627</td>\n",
       "      <td>47.772623</td>\n",
       "      <td>94.155083</td>\n",
       "    </tr>\n",
       "    <tr>\n",
       "      <td>min</td>\n",
       "      <td>480.000000</td>\n",
       "      <td>480.000000</td>\n",
       "      <td>977.000000</td>\n",
       "    </tr>\n",
       "    <tr>\n",
       "      <td>25%</td>\n",
       "      <td>534.500000</td>\n",
       "      <td>522.500000</td>\n",
       "      <td>1057.500000</td>\n",
       "    </tr>\n",
       "    <tr>\n",
       "      <td>50%</td>\n",
       "      <td>552.000000</td>\n",
       "      <td>544.000000</td>\n",
       "      <td>1098.000000</td>\n",
       "    </tr>\n",
       "    <tr>\n",
       "      <td>75%</td>\n",
       "      <td>610.500000</td>\n",
       "      <td>593.500000</td>\n",
       "      <td>1204.000000</td>\n",
       "    </tr>\n",
       "    <tr>\n",
       "      <td>max</td>\n",
       "      <td>643.000000</td>\n",
       "      <td>655.000000</td>\n",
       "      <td>1298.000000</td>\n",
       "    </tr>\n",
       "  </tbody>\n",
       "</table>\n",
       "</div>"
      ],
      "text/plain": [
       "        reasoning        math        total\n",
       "count   51.000000   51.000000    51.000000\n",
       "mean   563.686275  556.235294  1120.019608\n",
       "std     47.502627   47.772623    94.155083\n",
       "min    480.000000  480.000000   977.000000\n",
       "25%    534.500000  522.500000  1057.500000\n",
       "50%    552.000000  544.000000  1098.000000\n",
       "75%    610.500000  593.500000  1204.000000\n",
       "max    643.000000  655.000000  1298.000000"
      ]
     },
     "execution_count": 46,
     "metadata": {},
     "output_type": "execute_result"
    }
   ],
   "source": [
    "# Checking the basic numeric information for SAT 2018 data\n",
    "sat_2018.describe()"
   ]
  },
  {
   "cell_type": "code",
   "execution_count": 47,
   "metadata": {},
   "outputs": [
    {
     "data": {
      "text/html": [
       "<div>\n",
       "<style scoped>\n",
       "    .dataframe tbody tr th:only-of-type {\n",
       "        vertical-align: middle;\n",
       "    }\n",
       "\n",
       "    .dataframe tbody tr th {\n",
       "        vertical-align: top;\n",
       "    }\n",
       "\n",
       "    .dataframe thead th {\n",
       "        text-align: right;\n",
       "    }\n",
       "</style>\n",
       "<table border=\"1\" class=\"dataframe\">\n",
       "  <thead>\n",
       "    <tr style=\"text-align: right;\">\n",
       "      <th></th>\n",
       "      <th>composite</th>\n",
       "    </tr>\n",
       "  </thead>\n",
       "  <tbody>\n",
       "    <tr>\n",
       "      <td>count</td>\n",
       "      <td>52.000000</td>\n",
       "    </tr>\n",
       "    <tr>\n",
       "      <td>mean</td>\n",
       "      <td>21.544231</td>\n",
       "    </tr>\n",
       "    <tr>\n",
       "      <td>std</td>\n",
       "      <td>2.119417</td>\n",
       "    </tr>\n",
       "    <tr>\n",
       "      <td>min</td>\n",
       "      <td>17.700000</td>\n",
       "    </tr>\n",
       "    <tr>\n",
       "      <td>25%</td>\n",
       "      <td>19.975000</td>\n",
       "    </tr>\n",
       "    <tr>\n",
       "      <td>50%</td>\n",
       "      <td>21.300000</td>\n",
       "    </tr>\n",
       "    <tr>\n",
       "      <td>75%</td>\n",
       "      <td>23.725000</td>\n",
       "    </tr>\n",
       "    <tr>\n",
       "      <td>max</td>\n",
       "      <td>25.600000</td>\n",
       "    </tr>\n",
       "  </tbody>\n",
       "</table>\n",
       "</div>"
      ],
      "text/plain": [
       "       composite\n",
       "count  52.000000\n",
       "mean   21.544231\n",
       "std     2.119417\n",
       "min    17.700000\n",
       "25%    19.975000\n",
       "50%    21.300000\n",
       "75%    23.725000\n",
       "max    25.600000"
      ]
     },
     "execution_count": 47,
     "metadata": {},
     "output_type": "execute_result"
    }
   ],
   "source": [
    "# Checking the basic numeric information ACT 2018 Data\n",
    "act_2018.describe()"
   ]
  },
  {
   "cell_type": "code",
   "execution_count": 48,
   "metadata": {},
   "outputs": [
    {
     "data": {
      "text/plain": [
       "{'District of Columbia', 'District of columbia'}"
      ]
     },
     "execution_count": 48,
     "metadata": {},
     "output_type": "execute_result"
    }
   ],
   "source": [
    "# Checking the state names, what is repetitive or missing.\n",
    "# the sets from earlier are cleared\n",
    "sat_set.clear\n",
    "act_set.clear\n",
    "missing_state.clear\n",
    "sat_set = set(sat_2018['state'])\n",
    "act_set = set(act_2018['state'])\n",
    "missing_state = sat_set.symmetric_difference(act_set)\n",
    "missing_state"
   ]
  },
  {
   "cell_type": "code",
   "execution_count": 49,
   "metadata": {},
   "outputs": [],
   "source": [
    "# Since the names are only different in their formatting we will loop through a set and change names to title format\n",
    "for item in missing_state:\n",
    "    sat_2018.loc[sat_2018['state'] == item,'state'] = 'District of Columbia'\n",
    "    act_2018.loc[act_2018['state'] == item,'state'] = 'District of Columbia'"
   ]
  },
  {
   "cell_type": "code",
   "execution_count": 50,
   "metadata": {},
   "outputs": [
    {
     "name": "stdout",
     "output_type": "stream",
     "text": [
      "\n",
      "Arkansas\n",
      "anomaly at 3 row in 'total' column. but fixed\n",
      "Old total = 1169; New total = 1168\n",
      "\n",
      "Connecticut\n",
      "anomaly at 6 row in 'total' column. but fixed\n",
      "Old total = 1053.0; New total = 1054\n",
      "\n",
      "Delaware\n",
      "anomaly at 7 row in 'total' column. but fixed\n",
      "Old total = 998.0; New total = 997\n",
      "\n",
      "Kansas\n",
      "anomaly at 16 row in 'total' column. but fixed\n",
      "Old total = 1265.0; New total = 1264\n",
      "\n",
      "Michigan\n",
      "anomaly at 22 row in 'total' column. but fixed\n",
      "Old total = 1011.0; New total = 1010\n",
      "\n",
      "New Mexico\n",
      "anomaly at 31 row in 'total' column. but fixed\n",
      "Old total = 1093.0; New total = 1092\n",
      "\n",
      "North Carolina\n",
      "anomaly at 33 row in 'total' column. but fixed\n",
      "Old total = 1098.0; New total = 1097\n",
      "\n",
      "Vermont\n",
      "anomaly at 45 row in 'total' column. but fixed\n",
      "Old total = 1120.0; New total = 1119\n",
      "\n",
      "Wyoming\n",
      "anomaly at 50 row in 'total' column. but fixed\n",
      "Old total = 1257.0; New total = 1258\n"
     ]
    }
   ],
   "source": [
    "# Checking if the SAT 2018 totals add up and correcting them\n",
    "for idx in sat_2018['total'].index:\n",
    "    sum_new = round( (sat_2018.loc[idx,'math'] + sat_2018.loc[idx,'reasoning']))\n",
    "    sum_old = sat_2018.loc[idx,'total']\n",
    "    if (sum_old != sum_new):\n",
    "        print()\n",
    "        print(sat_2018.loc[idx,'state'])\n",
    "        print(f'anomaly at {idx} row in \\'total\\' column. but fixed')\n",
    "        print(f\"Old total = {sum_old}; New total = {sum_new}\")\n",
    "        sat_2018.loc[idx,'total'] = float(sum_new)"
   ]
  },
  {
   "cell_type": "code",
   "execution_count": 51,
   "metadata": {},
   "outputs": [
    {
     "data": {
      "text/plain": [
       "state             object\n",
       "participation     object\n",
       "reasoning          int64\n",
       "math               int64\n",
       "total            float64\n",
       "dtype: object"
      ]
     },
     "execution_count": 51,
     "metadata": {},
     "output_type": "execute_result"
    }
   ],
   "source": [
    "# Checking SAT 2018 data types\n",
    "sat_2018.dtypes"
   ]
  },
  {
   "cell_type": "code",
   "execution_count": 52,
   "metadata": {},
   "outputs": [
    {
     "data": {
      "text/plain": [
       "state             object\n",
       "participation     object\n",
       "composite        float64\n",
       "dtype: object"
      ]
     },
     "execution_count": 52,
     "metadata": {},
     "output_type": "execute_result"
    }
   ],
   "source": [
    "# Checking ACT 2018 data types\n",
    "act_2018.dtypes"
   ]
  },
  {
   "cell_type": "code",
   "execution_count": 53,
   "metadata": {},
   "outputs": [],
   "source": [
    "# Need to change the percentage sign in act and sat 2018 \n",
    "# Removing the percentage signs and changing the strings to floaat\n",
    "\n",
    "percent_change_function = lambda change_percent : float(change_percent.split('%')[0])\n",
    "sat_2018['participation'] = sat_2018['participation'].map(percent_change_function)\n",
    "act_2018['participation'] = act_2018['participation'].map(percent_change_function)"
   ]
  },
  {
   "cell_type": "code",
   "execution_count": 54,
   "metadata": {},
   "outputs": [
    {
     "data": {
      "text/plain": [
       "state             object\n",
       "participation    float64\n",
       "reasoning          int64\n",
       "math               int64\n",
       "total            float64\n",
       "dtype: object"
      ]
     },
     "execution_count": 54,
     "metadata": {},
     "output_type": "execute_result"
    }
   ],
   "source": [
    "sat_2018.dtypes"
   ]
  },
  {
   "cell_type": "code",
   "execution_count": 55,
   "metadata": {},
   "outputs": [
    {
     "data": {
      "text/plain": [
       "state             object\n",
       "participation    float64\n",
       "composite        float64\n",
       "dtype: object"
      ]
     },
     "execution_count": 55,
     "metadata": {},
     "output_type": "execute_result"
    }
   ],
   "source": [
    "act_2018.dtypes"
   ]
  },
  {
   "cell_type": "code",
   "execution_count": 56,
   "metadata": {},
   "outputs": [
    {
     "data": {
      "text/plain": [
       "Maine            2\n",
       "Oklahoma         1\n",
       "Minnesota        1\n",
       "New Jersey       1\n",
       "Massachusetts    1\n",
       "Name: state, dtype: int64"
      ]
     },
     "execution_count": 56,
     "metadata": {},
     "output_type": "execute_result"
    }
   ],
   "source": [
    "# Found two rows of Maine later but I'm fixing it here. So i'm coming back to fix it.\n",
    "act_2018.loc[:,'state'].value_counts().sort_values(ascending = False).head()"
   ]
  },
  {
   "cell_type": "code",
   "execution_count": 57,
   "metadata": {},
   "outputs": [
    {
     "data": {
      "text/plain": [
       "Texas            1\n",
       "Oklahoma         1\n",
       "Minnesota        1\n",
       "New Jersey       1\n",
       "Massachusetts    1\n",
       "Name: state, dtype: int64"
      ]
     },
     "execution_count": 57,
     "metadata": {},
     "output_type": "execute_result"
    }
   ],
   "source": [
    "# Drop any duplicate rows, in our case 'Maine'\n",
    "act_2018.drop_duplicates(inplace = True)\n",
    "act_2018.loc[:,'state'].value_counts().sort_values(ascending = False).head()"
   ]
  },
  {
   "cell_type": "markdown",
   "metadata": {},
   "source": [
    "#### Combine your 2017 and 2018 data into a single dataframe\n",
    "Joining on state names should work, assuming you formatted all your state names identically. Make sure none of your columns (other than state) have identical names. Do yourself a favor and decide if you're encoding participation rates as floats or integers and standardize this across your datasets.\n",
    "\n",
    "Save the contents of this merged dataframe as `final.csv`.\n",
    "\n",
    "**Use this combined dataframe for the remainder of the project**."
   ]
  },
  {
   "cell_type": "code",
   "execution_count": 58,
   "metadata": {},
   "outputs": [],
   "source": [
    "df_score_2018 = act_2018.merge(sat_2018,left_on='state',right_on='state',suffixes=('_act','_sat'))\n",
    "df_score_2018.rename(columns={'math':'math_sat'},inplace = True)"
   ]
  },
  {
   "cell_type": "code",
   "execution_count": 59,
   "metadata": {},
   "outputs": [],
   "source": [
    "df_final = df_score_2017.merge(df_score_2018,left_on='state',right_on='state',suffixes=('_2017','_2018'))"
   ]
  },
  {
   "cell_type": "code",
   "execution_count": 60,
   "metadata": {},
   "outputs": [],
   "source": [
    "df_final.to_csv('./../data/final.csv')"
   ]
  },
  {
   "cell_type": "code",
   "execution_count": 61,
   "metadata": {},
   "outputs": [
    {
     "data": {
      "text/html": [
       "<div>\n",
       "<style scoped>\n",
       "    .dataframe tbody tr th:only-of-type {\n",
       "        vertical-align: middle;\n",
       "    }\n",
       "\n",
       "    .dataframe tbody tr th {\n",
       "        vertical-align: top;\n",
       "    }\n",
       "\n",
       "    .dataframe thead th {\n",
       "        text-align: right;\n",
       "    }\n",
       "</style>\n",
       "<table border=\"1\" class=\"dataframe\">\n",
       "  <thead>\n",
       "    <tr style=\"text-align: right;\">\n",
       "      <th></th>\n",
       "      <th>0</th>\n",
       "      <th>1</th>\n",
       "      <th>2</th>\n",
       "      <th>3</th>\n",
       "      <th>4</th>\n",
       "    </tr>\n",
       "  </thead>\n",
       "  <tbody>\n",
       "    <tr>\n",
       "      <td>state</td>\n",
       "      <td>Alabama</td>\n",
       "      <td>Alaska</td>\n",
       "      <td>Arizona</td>\n",
       "      <td>Arkansas</td>\n",
       "      <td>California</td>\n",
       "    </tr>\n",
       "    <tr>\n",
       "      <td>participation_act_2017</td>\n",
       "      <td>100</td>\n",
       "      <td>65</td>\n",
       "      <td>62</td>\n",
       "      <td>100</td>\n",
       "      <td>31</td>\n",
       "    </tr>\n",
       "    <tr>\n",
       "      <td>english</td>\n",
       "      <td>18.9</td>\n",
       "      <td>18.7</td>\n",
       "      <td>18.6</td>\n",
       "      <td>18.9</td>\n",
       "      <td>22.5</td>\n",
       "    </tr>\n",
       "    <tr>\n",
       "      <td>math_act</td>\n",
       "      <td>18.4</td>\n",
       "      <td>19.8</td>\n",
       "      <td>19.8</td>\n",
       "      <td>19</td>\n",
       "      <td>22.7</td>\n",
       "    </tr>\n",
       "    <tr>\n",
       "      <td>reading</td>\n",
       "      <td>19.7</td>\n",
       "      <td>20.4</td>\n",
       "      <td>20.1</td>\n",
       "      <td>19.7</td>\n",
       "      <td>23.1</td>\n",
       "    </tr>\n",
       "    <tr>\n",
       "      <td>science</td>\n",
       "      <td>19.4</td>\n",
       "      <td>19.9</td>\n",
       "      <td>19.8</td>\n",
       "      <td>19.5</td>\n",
       "      <td>22.2</td>\n",
       "    </tr>\n",
       "    <tr>\n",
       "      <td>composite_2017</td>\n",
       "      <td>19.1</td>\n",
       "      <td>19.7</td>\n",
       "      <td>19.6</td>\n",
       "      <td>19.3</td>\n",
       "      <td>22.6</td>\n",
       "    </tr>\n",
       "    <tr>\n",
       "      <td>participation_sat_2017</td>\n",
       "      <td>5</td>\n",
       "      <td>38</td>\n",
       "      <td>30</td>\n",
       "      <td>3</td>\n",
       "      <td>53</td>\n",
       "    </tr>\n",
       "    <tr>\n",
       "      <td>reasoning_2017</td>\n",
       "      <td>593</td>\n",
       "      <td>547</td>\n",
       "      <td>563</td>\n",
       "      <td>614</td>\n",
       "      <td>531</td>\n",
       "    </tr>\n",
       "    <tr>\n",
       "      <td>math_sat_2017</td>\n",
       "      <td>572</td>\n",
       "      <td>533</td>\n",
       "      <td>553</td>\n",
       "      <td>594</td>\n",
       "      <td>524</td>\n",
       "    </tr>\n",
       "    <tr>\n",
       "      <td>total_2017</td>\n",
       "      <td>1165</td>\n",
       "      <td>1080</td>\n",
       "      <td>1116</td>\n",
       "      <td>1208</td>\n",
       "      <td>1055</td>\n",
       "    </tr>\n",
       "    <tr>\n",
       "      <td>participation_act_2018</td>\n",
       "      <td>100</td>\n",
       "      <td>33</td>\n",
       "      <td>66</td>\n",
       "      <td>100</td>\n",
       "      <td>27</td>\n",
       "    </tr>\n",
       "    <tr>\n",
       "      <td>composite_2018</td>\n",
       "      <td>19.1</td>\n",
       "      <td>20.8</td>\n",
       "      <td>19.2</td>\n",
       "      <td>19.4</td>\n",
       "      <td>22.7</td>\n",
       "    </tr>\n",
       "    <tr>\n",
       "      <td>participation_sat_2018</td>\n",
       "      <td>6</td>\n",
       "      <td>43</td>\n",
       "      <td>29</td>\n",
       "      <td>5</td>\n",
       "      <td>60</td>\n",
       "    </tr>\n",
       "    <tr>\n",
       "      <td>reasoning_2018</td>\n",
       "      <td>595</td>\n",
       "      <td>562</td>\n",
       "      <td>577</td>\n",
       "      <td>592</td>\n",
       "      <td>540</td>\n",
       "    </tr>\n",
       "    <tr>\n",
       "      <td>math_sat_2018</td>\n",
       "      <td>571</td>\n",
       "      <td>544</td>\n",
       "      <td>572</td>\n",
       "      <td>576</td>\n",
       "      <td>536</td>\n",
       "    </tr>\n",
       "    <tr>\n",
       "      <td>total_2018</td>\n",
       "      <td>1166</td>\n",
       "      <td>1106</td>\n",
       "      <td>1149</td>\n",
       "      <td>1168</td>\n",
       "      <td>1076</td>\n",
       "    </tr>\n",
       "  </tbody>\n",
       "</table>\n",
       "</div>"
      ],
      "text/plain": [
       "                              0       1        2         3           4\n",
       "state                   Alabama  Alaska  Arizona  Arkansas  California\n",
       "participation_act_2017      100      65       62       100          31\n",
       "english                    18.9    18.7     18.6      18.9        22.5\n",
       "math_act                   18.4    19.8     19.8        19        22.7\n",
       "reading                    19.7    20.4     20.1      19.7        23.1\n",
       "science                    19.4    19.9     19.8      19.5        22.2\n",
       "composite_2017             19.1    19.7     19.6      19.3        22.6\n",
       "participation_sat_2017        5      38       30         3          53\n",
       "reasoning_2017              593     547      563       614         531\n",
       "math_sat_2017               572     533      553       594         524\n",
       "total_2017                 1165    1080     1116      1208        1055\n",
       "participation_act_2018      100      33       66       100          27\n",
       "composite_2018             19.1    20.8     19.2      19.4        22.7\n",
       "participation_sat_2018        6      43       29         5          60\n",
       "reasoning_2018              595     562      577       592         540\n",
       "math_sat_2018               571     544      572       576         536\n",
       "total_2018                 1166    1106     1149      1168        1076"
      ]
     },
     "execution_count": 61,
     "metadata": {},
     "output_type": "execute_result"
    }
   ],
   "source": [
    "df_final.head().T"
   ]
  },
  {
   "cell_type": "code",
   "execution_count": 62,
   "metadata": {},
   "outputs": [
    {
     "data": {
      "text/plain": [
       "state                     0\n",
       "participation_act_2017    0\n",
       "english                   0\n",
       "math_act                  0\n",
       "reading                   0\n",
       "science                   0\n",
       "composite_2017            0\n",
       "participation_sat_2017    0\n",
       "reasoning_2017            0\n",
       "math_sat_2017             0\n",
       "total_2017                0\n",
       "participation_act_2018    0\n",
       "composite_2018            0\n",
       "participation_sat_2018    0\n",
       "reasoning_2018            0\n",
       "math_sat_2018             0\n",
       "total_2018                0\n",
       "dtype: int64"
      ]
     },
     "execution_count": 62,
     "metadata": {},
     "output_type": "execute_result"
    }
   ],
   "source": [
    "df_final.isnull().sum()"
   ]
  },
  {
   "cell_type": "markdown",
   "metadata": {},
   "source": [
    "## Exploratory Data Analysis\n",
    "\n",
    "\n",
    "### Summary Statistics\n",
    "Transpose the output of pandas `describe` method to create a quick overview of each numeric feature."
   ]
  },
  {
   "cell_type": "code",
   "execution_count": 63,
   "metadata": {},
   "outputs": [
    {
     "data": {
      "text/html": [
       "<div>\n",
       "<style scoped>\n",
       "    .dataframe tbody tr th:only-of-type {\n",
       "        vertical-align: middle;\n",
       "    }\n",
       "\n",
       "    .dataframe tbody tr th {\n",
       "        vertical-align: top;\n",
       "    }\n",
       "\n",
       "    .dataframe thead th {\n",
       "        text-align: right;\n",
       "    }\n",
       "</style>\n",
       "<table border=\"1\" class=\"dataframe\">\n",
       "  <thead>\n",
       "    <tr style=\"text-align: right;\">\n",
       "      <th></th>\n",
       "      <th>count</th>\n",
       "      <th>mean</th>\n",
       "      <th>std</th>\n",
       "      <th>min</th>\n",
       "      <th>25%</th>\n",
       "      <th>50%</th>\n",
       "      <th>75%</th>\n",
       "      <th>max</th>\n",
       "    </tr>\n",
       "  </thead>\n",
       "  <tbody>\n",
       "    <tr>\n",
       "      <td>participation_act_2017</td>\n",
       "      <td>51.0</td>\n",
       "      <td>65.254902</td>\n",
       "      <td>32.140842</td>\n",
       "      <td>8.0</td>\n",
       "      <td>31.00</td>\n",
       "      <td>69.0</td>\n",
       "      <td>100.00</td>\n",
       "      <td>100.0</td>\n",
       "    </tr>\n",
       "    <tr>\n",
       "      <td>english</td>\n",
       "      <td>51.0</td>\n",
       "      <td>20.931373</td>\n",
       "      <td>2.353677</td>\n",
       "      <td>16.3</td>\n",
       "      <td>19.00</td>\n",
       "      <td>20.7</td>\n",
       "      <td>23.30</td>\n",
       "      <td>25.5</td>\n",
       "    </tr>\n",
       "    <tr>\n",
       "      <td>math_act</td>\n",
       "      <td>51.0</td>\n",
       "      <td>21.182353</td>\n",
       "      <td>1.981989</td>\n",
       "      <td>18.0</td>\n",
       "      <td>19.40</td>\n",
       "      <td>20.9</td>\n",
       "      <td>23.10</td>\n",
       "      <td>25.3</td>\n",
       "    </tr>\n",
       "    <tr>\n",
       "      <td>reading</td>\n",
       "      <td>51.0</td>\n",
       "      <td>22.013725</td>\n",
       "      <td>2.067271</td>\n",
       "      <td>18.1</td>\n",
       "      <td>20.45</td>\n",
       "      <td>21.8</td>\n",
       "      <td>24.15</td>\n",
       "      <td>26.0</td>\n",
       "    </tr>\n",
       "    <tr>\n",
       "      <td>science</td>\n",
       "      <td>51.0</td>\n",
       "      <td>21.041176</td>\n",
       "      <td>3.182463</td>\n",
       "      <td>2.3</td>\n",
       "      <td>19.90</td>\n",
       "      <td>21.3</td>\n",
       "      <td>22.75</td>\n",
       "      <td>24.9</td>\n",
       "    </tr>\n",
       "    <tr>\n",
       "      <td>composite_2017</td>\n",
       "      <td>51.0</td>\n",
       "      <td>21.292157</td>\n",
       "      <td>2.050058</td>\n",
       "      <td>17.6</td>\n",
       "      <td>19.70</td>\n",
       "      <td>21.3</td>\n",
       "      <td>23.05</td>\n",
       "      <td>25.4</td>\n",
       "    </tr>\n",
       "    <tr>\n",
       "      <td>participation_sat_2017</td>\n",
       "      <td>51.0</td>\n",
       "      <td>39.803922</td>\n",
       "      <td>35.276632</td>\n",
       "      <td>2.0</td>\n",
       "      <td>4.00</td>\n",
       "      <td>38.0</td>\n",
       "      <td>66.00</td>\n",
       "      <td>100.0</td>\n",
       "    </tr>\n",
       "    <tr>\n",
       "      <td>reasoning_2017</td>\n",
       "      <td>51.0</td>\n",
       "      <td>569.117647</td>\n",
       "      <td>45.666901</td>\n",
       "      <td>482.0</td>\n",
       "      <td>533.50</td>\n",
       "      <td>559.0</td>\n",
       "      <td>613.00</td>\n",
       "      <td>644.0</td>\n",
       "    </tr>\n",
       "    <tr>\n",
       "      <td>math_sat_2017</td>\n",
       "      <td>51.0</td>\n",
       "      <td>556.882353</td>\n",
       "      <td>47.121395</td>\n",
       "      <td>468.0</td>\n",
       "      <td>523.50</td>\n",
       "      <td>548.0</td>\n",
       "      <td>599.00</td>\n",
       "      <td>651.0</td>\n",
       "    </tr>\n",
       "    <tr>\n",
       "      <td>total_2017</td>\n",
       "      <td>51.0</td>\n",
       "      <td>1126.000000</td>\n",
       "      <td>92.487621</td>\n",
       "      <td>950.0</td>\n",
       "      <td>1055.50</td>\n",
       "      <td>1106.0</td>\n",
       "      <td>1211.50</td>\n",
       "      <td>1295.0</td>\n",
       "    </tr>\n",
       "    <tr>\n",
       "      <td>participation_act_2018</td>\n",
       "      <td>51.0</td>\n",
       "      <td>61.725490</td>\n",
       "      <td>34.037085</td>\n",
       "      <td>7.0</td>\n",
       "      <td>28.50</td>\n",
       "      <td>66.0</td>\n",
       "      <td>100.00</td>\n",
       "      <td>100.0</td>\n",
       "    </tr>\n",
       "    <tr>\n",
       "      <td>composite_2018</td>\n",
       "      <td>51.0</td>\n",
       "      <td>21.496078</td>\n",
       "      <td>2.111583</td>\n",
       "      <td>17.7</td>\n",
       "      <td>19.95</td>\n",
       "      <td>21.3</td>\n",
       "      <td>23.65</td>\n",
       "      <td>25.6</td>\n",
       "    </tr>\n",
       "    <tr>\n",
       "      <td>participation_sat_2018</td>\n",
       "      <td>51.0</td>\n",
       "      <td>45.745098</td>\n",
       "      <td>37.314256</td>\n",
       "      <td>2.0</td>\n",
       "      <td>4.50</td>\n",
       "      <td>52.0</td>\n",
       "      <td>77.50</td>\n",
       "      <td>100.0</td>\n",
       "    </tr>\n",
       "    <tr>\n",
       "      <td>reasoning_2018</td>\n",
       "      <td>51.0</td>\n",
       "      <td>563.686275</td>\n",
       "      <td>47.502627</td>\n",
       "      <td>480.0</td>\n",
       "      <td>534.50</td>\n",
       "      <td>552.0</td>\n",
       "      <td>610.50</td>\n",
       "      <td>643.0</td>\n",
       "    </tr>\n",
       "    <tr>\n",
       "      <td>math_sat_2018</td>\n",
       "      <td>51.0</td>\n",
       "      <td>556.235294</td>\n",
       "      <td>47.772623</td>\n",
       "      <td>480.0</td>\n",
       "      <td>522.50</td>\n",
       "      <td>544.0</td>\n",
       "      <td>593.50</td>\n",
       "      <td>655.0</td>\n",
       "    </tr>\n",
       "    <tr>\n",
       "      <td>total_2018</td>\n",
       "      <td>51.0</td>\n",
       "      <td>1119.921569</td>\n",
       "      <td>94.189138</td>\n",
       "      <td>977.0</td>\n",
       "      <td>1058.00</td>\n",
       "      <td>1097.0</td>\n",
       "      <td>1204.00</td>\n",
       "      <td>1298.0</td>\n",
       "    </tr>\n",
       "  </tbody>\n",
       "</table>\n",
       "</div>"
      ],
      "text/plain": [
       "                        count         mean        std    min      25%     50%  \\\n",
       "participation_act_2017   51.0    65.254902  32.140842    8.0    31.00    69.0   \n",
       "english                  51.0    20.931373   2.353677   16.3    19.00    20.7   \n",
       "math_act                 51.0    21.182353   1.981989   18.0    19.40    20.9   \n",
       "reading                  51.0    22.013725   2.067271   18.1    20.45    21.8   \n",
       "science                  51.0    21.041176   3.182463    2.3    19.90    21.3   \n",
       "composite_2017           51.0    21.292157   2.050058   17.6    19.70    21.3   \n",
       "participation_sat_2017   51.0    39.803922  35.276632    2.0     4.00    38.0   \n",
       "reasoning_2017           51.0   569.117647  45.666901  482.0   533.50   559.0   \n",
       "math_sat_2017            51.0   556.882353  47.121395  468.0   523.50   548.0   \n",
       "total_2017               51.0  1126.000000  92.487621  950.0  1055.50  1106.0   \n",
       "participation_act_2018   51.0    61.725490  34.037085    7.0    28.50    66.0   \n",
       "composite_2018           51.0    21.496078   2.111583   17.7    19.95    21.3   \n",
       "participation_sat_2018   51.0    45.745098  37.314256    2.0     4.50    52.0   \n",
       "reasoning_2018           51.0   563.686275  47.502627  480.0   534.50   552.0   \n",
       "math_sat_2018            51.0   556.235294  47.772623  480.0   522.50   544.0   \n",
       "total_2018               51.0  1119.921569  94.189138  977.0  1058.00  1097.0   \n",
       "\n",
       "                            75%     max  \n",
       "participation_act_2017   100.00   100.0  \n",
       "english                   23.30    25.5  \n",
       "math_act                  23.10    25.3  \n",
       "reading                   24.15    26.0  \n",
       "science                   22.75    24.9  \n",
       "composite_2017            23.05    25.4  \n",
       "participation_sat_2017    66.00   100.0  \n",
       "reasoning_2017           613.00   644.0  \n",
       "math_sat_2017            599.00   651.0  \n",
       "total_2017              1211.50  1295.0  \n",
       "participation_act_2018   100.00   100.0  \n",
       "composite_2018            23.65    25.6  \n",
       "participation_sat_2018    77.50   100.0  \n",
       "reasoning_2018           610.50   643.0  \n",
       "math_sat_2018            593.50   655.0  \n",
       "total_2018              1204.00  1298.0  "
      ]
     },
     "execution_count": 63,
     "metadata": {},
     "output_type": "execute_result"
    }
   ],
   "source": [
    "df_final.describe().T"
   ]
  },
  {
   "cell_type": "markdown",
   "metadata": {},
   "source": [
    "#### Manually calculate standard deviation\n",
    "\n",
    "$$\\sigma = \\sqrt{\\frac{1}{n}\\sum_{i=1}^n(x_i - \\mu)^2}$$\n",
    "\n",
    "- Write a function to calculate standard deviation using the formula above"
   ]
  },
  {
   "cell_type": "code",
   "execution_count": 64,
   "metadata": {},
   "outputs": [],
   "source": [
    "# Function to determine the standard deviation of a given series\n",
    "# Since nothing was about calculating the mean, I have used the in-built function\n",
    "\n",
    "def std_function(series):\n",
    "    import math\n",
    "    mu = np.mean(series)\n",
    "    var = 0.0\n",
    "    for i in series:\n",
    "        var += (i-mu)**2\n",
    "    var = var/ len(series)-1\n",
    "    return math.sqrt(var)"
   ]
  },
  {
   "cell_type": "code",
   "execution_count": 65,
   "metadata": {},
   "outputs": [
    {
     "data": {
      "text/plain": [
       "31.80846054503881"
      ]
     },
     "execution_count": 65,
     "metadata": {},
     "output_type": "execute_result"
    }
   ],
   "source": [
    "std_function(df_final.loc[:,'participation_act_2017'])"
   ]
  },
  {
   "cell_type": "code",
   "execution_count": 66,
   "metadata": {},
   "outputs": [],
   "source": [
    "# Looks like np.std is same as standard definition\n",
    "# np.std(df_final.loc[:,'participation_act_2017'])"
   ]
  },
  {
   "cell_type": "markdown",
   "metadata": {},
   "source": [
    "- Use a **dictionary comprehension** to apply your standard deviation function to each numeric column in the dataframe.  **No loops**  \n",
    "- Assign the output to variable `sd` as a dictionary where: \n",
    "    - Each column name is now a key \n",
    "    - That standard deviation of the column is the value \n",
    "     \n",
    "*Example Output :* `{'ACT_Math': 120, 'ACT_Reading': 120, ...}`"
   ]
  },
  {
   "cell_type": "code",
   "execution_count": 67,
   "metadata": {},
   "outputs": [
    {
     "data": {
      "text/plain": [
       "{'participation_act_2017': 31.80846054503881,\n",
       " 'english': 2.1050350652454957,\n",
       " 'math_act': 1.6885666136596031,\n",
       " 'reading': 1.786004370352681,\n",
       " 'science': 2.988223714660288,\n",
       " 'composite_2017': 1.7664457653890053,\n",
       " 'participation_sat_2017': 34.91475310841106,\n",
       " 'reasoning_2017': 45.205911056671205,\n",
       " 'math_sat_2017': 46.64641593899646,\n",
       " 'total_2017': 91.57093039888612,\n",
       " 'participation_act_2018': 33.686896522367974,\n",
       " 'composite_2018': 1.8361255867502926,\n",
       " 'participation_sat_2018': 36.93308370620049,\n",
       " 'reasoning_2018': 47.02397811216392,\n",
       " 'math_sat_2018': 47.291373932704744,\n",
       " 'total_2018': 93.25578216573668}"
      ]
     },
     "execution_count": 67,
     "metadata": {},
     "output_type": "execute_result"
    }
   ],
   "source": [
    "#Code:\n",
    "sd = {column_name:std_function(df_final.loc[:,column_name]) for column_name in df_final.select_dtypes(include=['int64','float64'])}\n",
    "sd"
   ]
  },
  {
   "cell_type": "markdown",
   "metadata": {},
   "source": [
    "Do your manually calculated standard deviations match up with the output from pandas `describe`? What about numpy's `std` method?"
   ]
  },
  {
   "cell_type": "markdown",
   "metadata": {},
   "source": [
    "Answer: There is a slight mismatch between the function based on the formula above and the pandas in-built function. This is due to the difference in factor of division. In our function and even numpy, the function is based of the standard deviation formula, which involves division by a factor of n. However, instead division by n-1 appears in the default pandas function, which we call on data frame in `.describe()`"
   ]
  },
  {
   "cell_type": "markdown",
   "metadata": {},
   "source": [
    "#### Investigate trends in the data\n",
    "Using sorting and/or masking (along with the `.head` method to not print our entire dataframe), consider the following questions:\n",
    "\n",
    "- Which states have the highest and lowest participation rates for the:\n",
    "    - 2017 SAT?\n",
    "    - 2018 SAT?\n",
    "    - 2017 ACT?\n",
    "    - 2018 ACT?\n",
    "- Which states have the highest and lowest mean total/composite scores for the:\n",
    "    - 2017 SAT?\n",
    "    - 2018 SAT?\n",
    "    - 2017 ACT?\n",
    "    - 2018 ACT?\n",
    "- Do any states with 100% participation on a given test have a rate change year-to-year?\n",
    "- Do any states show have >50% participation on *both* tests either year?\n",
    "\n",
    "Based on what you've just observed, have you identified any states that you're especially interested in? **Make a note of these and state *why* you think they're interesting**.\n",
    "\n",
    "**You should comment on your findings at each step in a markdown cell below your code block**. Make sure you include at least one example of sorting your dataframe by a column, and one example of using boolean filtering (i.e., masking) to select a subset of the dataframe."
   ]
  },
  {
   "cell_type": "code",
   "execution_count": 68,
   "metadata": {},
   "outputs": [
    {
     "name": "stdout",
     "output_type": "stream",
     "text": [
      "\n",
      "PARTICIPATION_ACT_2017\n",
      "\n",
      "Maximum scoring states: 100.0\n",
      "['Alabama', 'Arkansas', 'Colorado', 'Kentucky', 'Louisiana', 'Minnesota', 'Mississippi', 'Missouri', 'Montana', 'Nevada', 'North Carolina', 'Oklahoma', 'South Carolina', 'Tennessee', 'Utah', 'Wisconsin', 'Wyoming']\n",
      "\n",
      "Minimum scoring states 8.0\n",
      "['Maine']\n",
      "\n",
      "PARTICIPATION_SAT_2017\n",
      "\n",
      "Maximum scoring states: 100.0\n",
      "['Connecticut', 'Delaware', 'District of Columbia', 'Michigan']\n",
      "\n",
      "Minimum scoring states 2.0\n",
      "['Iowa', 'Mississippi', 'North Dakota']\n",
      "\n",
      "PARTICIPATION_ACT_2018\n",
      "\n",
      "Maximum scoring states: 100.0\n",
      "['Alabama', 'Arkansas', 'Kentucky', 'Louisiana', 'Mississippi', 'Missouri', 'Montana', 'Nebraska', 'Nevada', 'North Carolina', 'Ohio', 'Oklahoma', 'South Carolina', 'Tennessee', 'Utah', 'Wisconsin', 'Wyoming']\n",
      "\n",
      "Minimum scoring states 7.0\n",
      "['Maine']\n",
      "\n",
      "PARTICIPATION_SAT_2018\n",
      "\n",
      "Maximum scoring states: 100.0\n",
      "['Colorado', 'Connecticut', 'Delaware', 'Idaho', 'Michigan']\n",
      "\n",
      "Minimum scoring states 2.0\n",
      "['North Dakota']\n"
     ]
    }
   ],
   "source": [
    "# - Which states have the highest and lowest participation rates for the:\n",
    "#     - 2017 SAT?\n",
    "#     - 2018 SAT?\n",
    "#     - 2017 ACT?\n",
    "#     - 2018 ACT?\n",
    "\n",
    "list_participation_columns = [item for item in df_final.columns if 'participation' in item]\n",
    "for item in list_participation_columns:\n",
    "    pass\n",
    "    max_val = np.max(df_final.loc[:,item])\n",
    "    min_val = np.min(df_final.loc[:,item])\n",
    "    print()\n",
    "    print(item.upper()+'\\n')\n",
    "    print(\"Maximum scoring states:\",max_val)\n",
    "    print(list(df_final.loc[df_final.loc[:,item] == max_val,'state']))\n",
    "    print()\n",
    "    print(\"Minimum scoring states\",min_val)\n",
    "    print(list(df_final.loc[df_final.loc[:,item] == min_val,'state']));"
   ]
  },
  {
   "cell_type": "code",
   "execution_count": 69,
   "metadata": {},
   "outputs": [
    {
     "name": "stdout",
     "output_type": "stream",
     "text": [
      "\n",
      "COMPOSITE_2017\n",
      "\n",
      "Maximum scoring states: 25.4\n",
      "['New Hampshire']\n",
      "\n",
      "Minimum scoring states 17.6\n",
      "['Nevada']\n",
      "\n",
      "TOTAL_2017\n",
      "\n",
      "Maximum scoring states: 1295.0\n",
      "['Minnesota']\n",
      "\n",
      "Minimum scoring states 950.0\n",
      "['District of Columbia']\n",
      "\n",
      "COMPOSITE_2018\n",
      "\n",
      "Maximum scoring states: 25.6\n",
      "['Connecticut']\n",
      "\n",
      "Minimum scoring states 17.7\n",
      "['Nevada']\n",
      "\n",
      "TOTAL_2018\n",
      "\n",
      "Maximum scoring states: 1298.0\n",
      "['Minnesota']\n",
      "\n",
      "Minimum scoring states 977.0\n",
      "['District of Columbia']\n"
     ]
    }
   ],
   "source": [
    "# - Which states have the highest and lowest mean total/composite scores for the:\n",
    "#     - 2017 SAT?\n",
    "#     - 2018 SAT?\n",
    "#     - 2017 ACT?\n",
    "#     - 2018 ACT?\n",
    "\n",
    "list_total_and_composites = [item for item in df_final.columns if ('total' in item) or ('composite' in item)]\n",
    "for item in list_total_and_composites:\n",
    "    pass\n",
    "    max_val = np.max(df_final.loc[:,item])\n",
    "    min_val = np.min(df_final.loc[:,item])\n",
    "    print()\n",
    "    print(item.upper()+'\\n')\n",
    "    print(\"Maximum scoring states:\",max_val)\n",
    "    print(list(df_final.loc[df_final.loc[:,item] == max_val,'state']))\n",
    "    print()\n",
    "    print(\"Minimum scoring states\",min_val)\n",
    "    print(list(df_final.loc[df_final.loc[:,item] == min_val,'state']));"
   ]
  },
  {
   "cell_type": "code",
   "execution_count": 70,
   "metadata": {},
   "outputs": [
    {
     "name": "stdout",
     "output_type": "stream",
     "text": [
      "States that lost the 100% participation in ACT from 2017 to 2018\n",
      "\n",
      "{'Minnesota', 'Colorado'}\n",
      "\n",
      "States that lost the 100% participation in SAT from 2017 to 2018\n",
      "\n",
      "{'District of Columbia'}\n"
     ]
    }
   ],
   "source": [
    "# - Do any states with 100% participation on a given test have a rate change year-to-year?\n",
    "column_centage = ['participation_act_2017','participation_act_2018','participation_sat_2017','participation_sat_2018']\n",
    "yearly_change_in_maxcentage = {item:set(df_final.loc[df_final.loc[:,item]==100,'state']) for item in column_centage}\n",
    "print (\"States that lost the 100% participation in ACT from 2017 to 2018\\n\")\n",
    "print(yearly_change_in_maxcentage['participation_act_2017']-yearly_change_in_maxcentage['participation_act_2017'].intersection(yearly_change_in_maxcentage['participation_act_2018']))\n",
    "print()\n",
    "print (\"States that lost the 100% participation in SAT from 2017 to 2018\\n\")\n",
    "print(yearly_change_in_maxcentage['participation_sat_2017']-yearly_change_in_maxcentage['participation_sat_2017'].intersection(yearly_change_in_maxcentage['participation_sat_2018']))"
   ]
  },
  {
   "cell_type": "code",
   "execution_count": 71,
   "metadata": {},
   "outputs": [
    {
     "name": "stdout",
     "output_type": "stream",
     "text": [
      "States that show >50% participation in ACT on either year\n",
      "\n",
      "{'Minnesota', 'Nevada', 'West Virginia', 'Iowa', 'Utah', 'Georgia', 'Oklahoma', 'Wyoming', 'Tennessee', 'Kentucky', 'Louisiana', 'Nebraska', 'Missouri', 'Hawaii', 'Mississippi', 'Alabama', 'Arizona', 'South Carolina', 'Montana', 'Florida', 'Arkansas', 'Kansas', 'North Carolina', 'South Dakota', 'New Mexico', 'Wisconsin', 'North Dakota', 'Ohio'}\n",
      "\n",
      "States that show >50% participation in SAT on either year\n",
      "\n",
      "{'Texas', 'Idaho', 'Maryland', 'New Jersey', 'Massachusetts', 'New Hampshire', 'District of Columbia', 'California', 'Indiana', 'Georgia', 'Maine', 'Rhode Island', 'Hawaii', 'Connecticut', 'New York', 'Pennsylvania', 'Florida', 'Delaware', 'Washington', 'Vermont', 'Virginia', 'Michigan'}\n"
     ]
    }
   ],
   "source": [
    "# Do any states show >50% participation on both tests either year?\n",
    "\n",
    "column_centage = ['participation_act_2017','participation_act_2018','participation_sat_2017','participation_sat_2018']\n",
    "yearly_change_in_maxcentage = {item:set(df_final.loc[df_final.loc[:,item]>50,'state']) for item in column_centage}\n",
    "print (\"States that show >50% participation in ACT on either year\\n\")\n",
    "set_act50=yearly_change_in_maxcentage['participation_act_2017'].intersection(yearly_change_in_maxcentage['participation_act_2018'])\n",
    "print(set_act50)\n",
    "print()\n",
    "print (\"States that show >50% participation in SAT on either year\\n\")\n",
    "act_set50=yearly_change_in_maxcentage['participation_sat_2017'].intersection(yearly_change_in_maxcentage['participation_sat_2018'])\n",
    "print(act_set50)"
   ]
  },
  {
   "cell_type": "markdown",
   "metadata": {},
   "source": [
    "## Visualize the data\n",
    "\n",
    "There's not a magic bullet recommendation for the right number of plots to understand a given dataset, but visualizing your data is *always* a good idea. Not only does it allow you to quickly convey your findings (even if you have a non-technical audience), it will often reveal trends in your data that escaped you when you were looking only at numbers.\n",
    "\n",
    "Some recommendations on plotting:\n",
    "- Plots have titles\n",
    "- Plots have axis labels\n",
    "- Plots have appropriate tick labels\n",
    "- All text is legible in a plot\n",
    "- Plots demonstrate meaningful and valid relationships\n",
    "- Plots are interpreted to aid understanding\n",
    "\n",
    "There is such a thing as too many plots, and there are a *lot* of bad plots. You might make some! (But hopefully not with the guided prompts below)."
   ]
  },
  {
   "cell_type": "markdown",
   "metadata": {},
   "source": [
    "#### Use Seaborn's heatmap with pandas `.corr()` to visualize correlations between all numeric features\n",
    "\n",
    "Heatmaps are generally not appropriate for presentations, and should often be excluded from reports as they can be visually overwhelming. **However**, they can be extremely useful in identify relationships of potential interest (as well as identifying potential collinearity before modeling).\n",
    "\n",
    "*example*:\n",
    "```python\n",
    "sns.heatmap(df.corr())\n",
    "```\n",
    "\n",
    "Please take time to format your output, adding a title. Look through some of the additional arguments and options. (Axis labels aren't really necessary, as long as the title is informative)."
   ]
  },
  {
   "cell_type": "code",
   "execution_count": 72,
   "metadata": {},
   "outputs": [
    {
     "data": {
      "image/png": "[encoded data removed]",
      "text/plain": [
       "<Figure size 1080x1080 with 2 Axes>"
      ]
     },
     "metadata": {
      "needs_background": "light"
     },
     "output_type": "display_data"
    }
   ],
   "source": [
    "plt.figure(figsize=(15,15))\n",
    "sns.heatmap(df_final.corr(),annot = True, cmap = 'coolwarm',vmin = -1, vmax = 1,square = True)\n",
    "plt.title(\"Correlation of all available numeric data\", size = 22);"
   ]
  },
  {
   "cell_type": "code",
   "execution_count": 73,
   "metadata": {},
   "outputs": [
    {
     "data": {
      "text/html": [
       "<div>\n",
       "<style scoped>\n",
       "    .dataframe tbody tr th:only-of-type {\n",
       "        vertical-align: middle;\n",
       "    }\n",
       "\n",
       "    .dataframe tbody tr th {\n",
       "        vertical-align: top;\n",
       "    }\n",
       "\n",
       "    .dataframe thead th {\n",
       "        text-align: right;\n",
       "    }\n",
       "</style>\n",
       "<table border=\"1\" class=\"dataframe\">\n",
       "  <thead>\n",
       "    <tr style=\"text-align: right;\">\n",
       "      <th></th>\n",
       "      <th>state</th>\n",
       "      <th>participation_act_2017</th>\n",
       "      <th>english</th>\n",
       "      <th>math_act</th>\n",
       "      <th>reading</th>\n",
       "      <th>science</th>\n",
       "      <th>composite_2017</th>\n",
       "      <th>participation_sat_2017</th>\n",
       "      <th>reasoning_2017</th>\n",
       "      <th>math_sat_2017</th>\n",
       "      <th>total_2017</th>\n",
       "      <th>participation_act_2018</th>\n",
       "      <th>composite_2018</th>\n",
       "      <th>participation_sat_2018</th>\n",
       "      <th>reasoning_2018</th>\n",
       "      <th>math_sat_2018</th>\n",
       "      <th>total_2018</th>\n",
       "    </tr>\n",
       "  </thead>\n",
       "  <tbody>\n",
       "    <tr>\n",
       "      <td>19</td>\n",
       "      <td>Maine</td>\n",
       "      <td>8.0</td>\n",
       "      <td>24.2</td>\n",
       "      <td>24.0</td>\n",
       "      <td>24.8</td>\n",
       "      <td>23.7</td>\n",
       "      <td>24.2</td>\n",
       "      <td>95.0</td>\n",
       "      <td>513</td>\n",
       "      <td>499</td>\n",
       "      <td>1012.0</td>\n",
       "      <td>7.0</td>\n",
       "      <td>24.0</td>\n",
       "      <td>99.0</td>\n",
       "      <td>512</td>\n",
       "      <td>501</td>\n",
       "      <td>1013.0</td>\n",
       "    </tr>\n",
       "  </tbody>\n",
       "</table>\n",
       "</div>"
      ],
      "text/plain": [
       "    state  participation_act_2017  english  math_act  reading  science  \\\n",
       "19  Maine                     8.0     24.2      24.0     24.8     23.7   \n",
       "\n",
       "    composite_2017  participation_sat_2017  reasoning_2017  math_sat_2017  \\\n",
       "19            24.2                    95.0             513            499   \n",
       "\n",
       "    total_2017  participation_act_2018  composite_2018  \\\n",
       "19      1012.0                     7.0            24.0   \n",
       "\n",
       "    participation_sat_2018  reasoning_2018  math_sat_2018  total_2018  \n",
       "19                    99.0             512            501      1013.0  "
      ]
     },
     "execution_count": 73,
     "metadata": {},
     "output_type": "execute_result"
    }
   ],
   "source": [
    "df_final.loc[df_final['state']=='Maine',]"
   ]
  },
  {
   "cell_type": "markdown",
   "metadata": {},
   "source": [
    "#### Define a custom function to subplot histograms\n",
    "\n",
    "We have data for two tests for two years. We only have composite (and not subtest scores) for the 2018 ACT. We should write a function that will take the names of 2+ columns and subplot histograms. While you can use pandas plotting or Seaborn here, matplotlib gives you greater control over all aspects of your plots.\n",
    "\n",
    "[Helpful Link for Plotting Multiple Figures](https://matplotlib.org/users/pyplot_tutorial.html#working-with-multiple-figures-and-axes)\n",
    "\n",
    "Here's some starter code:"
   ]
  },
  {
   "cell_type": "code",
   "execution_count": 74,
   "metadata": {},
   "outputs": [],
   "source": [
    "# def subplot_histograms(dataframe, list_of_columns, list_of_titles, list_of_xlabels):\n",
    "#     nrows = int(np.ceil(len(list_of_columns)/2)) # Makes sure you have enough rows\n",
    "#     fig, ax = plt.subplots(nrows=nrows, ncols=2) # You'll want to specify your figsize\n",
    "#     ax = ax.ravel() # Ravel turns a matrix into a vector, which is easier to iterate\n",
    "#     for i, column in enumerate(list_of_columns): # Gives us an index value to get into all our lists\n",
    "#         ax[i].hist(dataframe[column]) # feel free to add more settings\n",
    "#         # Set titles, labels, etc here for each subplot"
   ]
  },
  {
   "cell_type": "code",
   "execution_count": 111,
   "metadata": {},
   "outputs": [],
   "source": [
    "def subplot_histograms(dataframe, list_of_columns,nbins=10):\n",
    "    nrows = int(np.ceil(len(list_of_columns))) # Makes sure you have enough rows    \n",
    "    plt.figure(figsize=(16,16))\n",
    "    for i, column in enumerate(list_of_columns): # Gives us an index value to get into all our lists\n",
    "        axl = plt.subplot(nrows,2,i+1)\n",
    "        axl.set_title(' '.join(list_of_columns[i].upper().split('_')),size=20)\n",
    "        axl.hist(dataframe[column],bins=nbins)\n",
    "    plt.tight_layout()\n",
    "    return"
   ]
  },
  {
   "cell_type": "markdown",
   "metadata": {},
   "source": [
    "#### Plot and interpret histograms \n",
    "For each of the following:\n",
    "- Participation rates for SAT & ACT\n",
    "- Math scores for SAT & ACT\n",
    "- Reading/verbal scores for SAT & ACT"
   ]
  },
  {
   "cell_type": "code",
   "execution_count": 113,
   "metadata": {},
   "outputs": [
    {
     "data": {
      "image/png": "[encoded data removed]",
      "text/plain": [
       "<Figure size 1152x1152 with 4 Axes>"
      ]
     },
     "metadata": {
      "needs_background": "light"
     },
     "output_type": "display_data"
    }
   ],
   "source": [
    "# Code\n",
    "list_of_columns = [item for item in df_final.columns if 'participation' in item]\n",
    "nbins=20\n",
    "subplot_histograms(df_final,list_of_columns,nbins)"
   ]
  },
  {
   "cell_type": "code",
   "execution_count": 114,
   "metadata": {},
   "outputs": [
    {
     "data": {
      "image/png": "[encoded data removed]",
      "text/plain": [
       "<Figure size 1152x1152 with 3 Axes>"
      ]
     },
     "metadata": {
      "needs_background": "light"
     },
     "output_type": "display_data"
    }
   ],
   "source": [
    "list_of_columns = [item for item in df_final.columns if 'math' in item]\n",
    "nbins=10\n",
    "subplot_histograms(df_final,list_of_columns)"
   ]
  },
  {
   "cell_type": "code",
   "execution_count": 78,
   "metadata": {},
   "outputs": [
    {
     "data": {
      "image/png": "[encoded data removed]",
      "text/plain": [
       "<Figure size 1152x1152 with 4 Axes>"
      ]
     },
     "metadata": {
      "needs_background": "light"
     },
     "output_type": "display_data"
    }
   ],
   "source": [
    "list_of_columns = [item for item in df_final.columns if (('english' in item) or ('reading' in item) or ('reasoning' in item))]\n",
    "nbins=10\n",
    "subplot_histograms(df_final,list_of_columns)"
   ]
  },
  {
   "cell_type": "markdown",
   "metadata": {},
   "source": [
    "#### Plot and interpret scatter plots\n",
    "\n",
    "For each of the following:\n",
    "- SAT vs. ACT math scores for 2017\n",
    "- SAT vs. ACT verbal/reading scores for 2017\n",
    "- SAT vs. ACT total/composite scores for 2017\n",
    "- Total scores for SAT 2017 vs. 2018\n",
    "- Composite scores for ACT 2017 vs. 2018\n",
    "\n",
    "Plot the two variables against each other using matplotlib or Seaborn\n",
    "\n",
    "Your plots should show:\n",
    "- Two clearly labeled axes\n",
    "- A proper title\n",
    "- Using colors and symbols that are clear and unmistakable\n",
    "\n",
    "**Feel free to write a custom function, and subplot if you'd like.** Functions save both time and space.\n"
   ]
  },
  {
   "cell_type": "code",
   "execution_count": 79,
   "metadata": {},
   "outputs": [],
   "source": [
    "# Function to make scatter plots\n",
    "def subplot_scatter(dataframe, x_variable, y_variable):#, list_of_titles, list_of_xlabels):\n",
    "    plt.figure(figsize=(7,7))\n",
    "    plt.subplot(111)\n",
    "    plt.scatter(df_final[x_variable],df_final[y_variable],marker='s',s=28)\n",
    "    plt.xlabel(' '.join(x_variable.upper().split('_')),size=18)\n",
    "    plt.ylabel(' '.join(y_variable.upper().split('_')),size=18)\n",
    "    plt.title(' '.join(x_variable.upper().split('_'))+' v/s '+' '.join(y_variable.upper().split('_')),size=22)\n",
    "    plt.tight_layout()\n",
    "    return"
   ]
  },
  {
   "cell_type": "code",
   "execution_count": 80,
   "metadata": {},
   "outputs": [
    {
     "data": {
      "image/png": "[encoded data removed]",
      "text/plain": [
       "<Figure size 504x504 with 1 Axes>"
      ]
     },
     "metadata": {
      "needs_background": "light"
     },
     "output_type": "display_data"
    }
   ],
   "source": [
    "#SAT vs. ACT math scores for 2017\n",
    "subplot_scatter(df_final,'math_act','math_sat_2017')"
   ]
  },
  {
   "cell_type": "code",
   "execution_count": 81,
   "metadata": {},
   "outputs": [
    {
     "data": {
      "image/png": "[encoded data removed]",
      "text/plain": [
       "<Figure size 504x504 with 1 Axes>"
      ]
     },
     "metadata": {
      "needs_background": "light"
     },
     "output_type": "display_data"
    }
   ],
   "source": [
    "# SAT vs. ACT verbal/reading scores for 2017\n",
    "# reasoning here is the SAT equivalent\n",
    "# reading is the ACT score of 2017\n",
    "subplot_scatter(df_final,'reading','reasoning_2017')"
   ]
  },
  {
   "cell_type": "code",
   "execution_count": 82,
   "metadata": {},
   "outputs": [
    {
     "data": {
      "image/png": "[encoded data removed]",
      "text/plain": [
       "<Figure size 504x504 with 1 Axes>"
      ]
     },
     "metadata": {
      "needs_background": "light"
     },
     "output_type": "display_data"
    }
   ],
   "source": [
    "# SAT vs. ACT total/composite scores for 2017\n",
    "subplot_scatter(df_final,'total_2017','composite_2017')"
   ]
  },
  {
   "cell_type": "code",
   "execution_count": 83,
   "metadata": {},
   "outputs": [
    {
     "data": {
      "image/png": "[encoded data removed]",
      "text/plain": [
       "<Figure size 504x504 with 1 Axes>"
      ]
     },
     "metadata": {
      "needs_background": "light"
     },
     "output_type": "display_data"
    }
   ],
   "source": [
    "# Total scores for SAT 2017 vs. 2018\n",
    "subplot_scatter(df_final,'total_2017','total_2018')"
   ]
  },
  {
   "cell_type": "code",
   "execution_count": 84,
   "metadata": {},
   "outputs": [
    {
     "data": {
      "image/png": "[encoded data removed]",
      "text/plain": [
       "<Figure size 504x504 with 1 Axes>"
      ]
     },
     "metadata": {
      "needs_background": "light"
     },
     "output_type": "display_data"
    }
   ],
   "source": [
    "# Composite scores for ACT 2017 vs. 2018\n",
    "subplot_scatter(df_final,'composite_2017','composite_2018')"
   ]
  },
  {
   "cell_type": "markdown",
   "metadata": {},
   "source": [
    "#### Plot and interpret boxplots\n",
    "\n",
    "For each numeric variable in the dataframe create a boxplot using Seaborn. Boxplots demonstrate central tendency and spread in variables. In a certain sense, these are somewhat redundant with histograms, but you may be better able to identify clear outliers or differences in IQR, etc.\n",
    "\n",
    "Multiple values can be plotted to a single boxplot as long as they are of the same relative scale (meaning they have similar min/max values).\n",
    "\n",
    "Each boxplot should:\n",
    "- Only include variables of a similar scale\n",
    "- Have clear labels for each variable\n",
    "- Have appropriate titles and labels"
   ]
  },
  {
   "cell_type": "code",
   "execution_count": 117,
   "metadata": {},
   "outputs": [],
   "source": [
    "# Function to create boxplots\n",
    "def subplot_boxplot(dataframe, column_name):#, list_of_titles, list_of_xlabels):\n",
    "    plt.figure(figsize=(5,5))\n",
    "    sns.boxplot(data=dataframe[column_name],color='orange')\n",
    "    plt.title(' '.join(column_name.upper().split('_')),size=22)\n",
    "    plt.tight_layout()\n",
    "    return"
   ]
  },
  {
   "cell_type": "code",
   "execution_count": 118,
   "metadata": {},
   "outputs": [
    {
     "data": {
      "image/png": "[encoded data removed]",
      "text/plain": [
       "<Figure size 360x360 with 1 Axes>"
      ]
     },
     "metadata": {
      "needs_background": "light"
     },
     "output_type": "display_data"
    },
    {
     "data": {
      "image/png": "[encoded data removed]",
      "text/plain": [
       "<Figure size 360x360 with 1 Axes>"
      ]
     },
     "metadata": {
      "needs_background": "light"
     },
     "output_type": "display_data"
    },
    {
     "data": {
      "image/png": "[encoded data removed]",
      "text/plain": [
       "<Figure size 360x360 with 1 Axes>"
      ]
     },
     "metadata": {
      "needs_background": "light"
     },
     "output_type": "display_data"
    },
    {
     "data": {
      "image/png": "[encoded data removed]",
      "text/plain": [
       "<Figure size 360x360 with 1 Axes>"
      ]
     },
     "metadata": {
      "needs_background": "light"
     },
     "output_type": "display_data"
    },
    {
     "data": {
      "image/png": "[encoded data removed]",
      "text/plain": [
       "<Figure size 360x360 with 1 Axes>"
      ]
     },
     "metadata": {
      "needs_background": "light"
     },
     "output_type": "display_data"
    },
    {
     "data": {
      "image/png": "[encoded data removed]",
      "text/plain": [
       "<Figure size 360x360 with 1 Axes>"
      ]
     },
     "metadata": {
      "needs_background": "light"
     },
     "output_type": "display_data"
    },
    {
     "data": {
      "image/png": "[encoded data removed]",
      "text/plain": [
       "<Figure size 360x360 with 1 Axes>"
      ]
     },
     "metadata": {
      "needs_background": "light"
     },
     "output_type": "display_data"
    },
    {
     "data": {
      "image/png": "[encoded data removed]",
      "text/plain": [
       "<Figure size 360x360 with 1 Axes>"
      ]
     },
     "metadata": {
      "needs_background": "light"
     },
     "output_type": "display_data"
    },
    {
     "data": {
      "image/png": "[encoded data removed]",
      "text/plain": [
       "<Figure size 360x360 with 1 Axes>"
      ]
     },
     "metadata": {
      "needs_background": "light"
     },
     "output_type": "display_data"
    },
    {
     "data": {
      "image/png": "[encoded data removed]",
      "text/plain": [
       "<Figure size 360x360 with 1 Axes>"
      ]
     },
     "metadata": {
      "needs_background": "light"
     },
     "output_type": "display_data"
    },
    {
     "data": {
      "image/png": "[encoded data removed]",
      "text/plain": [
       "<Figure size 360x360 with 1 Axes>"
      ]
     },
     "metadata": {
      "needs_background": "light"
     },
     "output_type": "display_data"
    },
    {
     "data": {
      "image/png": "[encoded data removed]",
      "text/plain": [
       "<Figure size 360x360 with 1 Axes>"
      ]
     },
     "metadata": {
      "needs_background": "light"
     },
     "output_type": "display_data"
    },
    {
     "data": {
      "image/png": "[encoded data removed]",
      "text/plain": [
       "<Figure size 360x360 with 1 Axes>"
      ]
     },
     "metadata": {
      "needs_background": "light"
     },
     "output_type": "display_data"
    },
    {
     "data": {
      "image/png": "[encoded data removed]",
      "text/plain": [
       "<Figure size 360x360 with 1 Axes>"
      ]
     },
     "metadata": {
      "needs_background": "light"
     },
     "output_type": "display_data"
    },
    {
     "data": {
      "image/png": "[encoded data removed]",
      "text/plain": [
       "<Figure size 360x360 with 1 Axes>"
      ]
     },
     "metadata": {
      "needs_background": "light"
     },
     "output_type": "display_data"
    },
    {
     "data": {
      "image/png": "[encoded data removed]",
      "text/plain": [
       "<Figure size 360x360 with 1 Axes>"
      ]
     },
     "metadata": {
      "needs_background": "light"
     },
     "output_type": "display_data"
    }
   ],
   "source": [
    "for item in df_final.select_dtypes(include=['int','float']):\n",
    "    subplot_boxplot(df_final,item)"
   ]
  },
  {
   "cell_type": "markdown",
   "metadata": {},
   "source": [
    "#### Feel free to do additional plots below\n",
    "*(do research and choose your own chart types & variables)*\n",
    "\n",
    "Are there any additional trends or relationships you haven't explored? Was there something interesting you saw that you'd like to dive further into? It's likely that there are a few more plots you might want to generate to support your narrative and recommendations that you are building toward. **As always, make sure you're interpreting your plots as you go**."
   ]
  },
  {
   "cell_type": "code",
   "execution_count": null,
   "metadata": {},
   "outputs": [],
   "source": []
  },
  {
   "cell_type": "markdown",
   "metadata": {},
   "source": [
    "#### (Optional): Using Tableau, create a choropleth map for each variable using a map of the US. \n",
    "\n",
    "Save this plot as an image file in an images directory, provide a relative path, and insert the image into notebook in markdown."
   ]
  },
  {
   "cell_type": "code",
   "execution_count": null,
   "metadata": {},
   "outputs": [],
   "source": []
  },
  {
   "cell_type": "markdown",
   "metadata": {},
   "source": [
    "## Descriptive and Inferential Statistics"
   ]
  },
  {
   "cell_type": "markdown",
   "metadata": {},
   "source": [
    "#### Summarizing Distributions\n",
    "\n",
    "Above, we used pandas `describe` to provide quick summary statistics of our numeric columns. We also demonstrated many visual relationships.\n",
    "\n",
    "As data scientists, having a complete understanding of data is imperative prior to modeling.\n",
    "\n",
    "While we will continue to build our analytic tools, we know that measures of *central tendency*, *spread*, and *shape/skewness* provide a quick summary of distributions.\n",
    "\n",
    "For each variable in your data, summarize the underlying distributions (in words & statistics)\n",
    " - Be thorough in your verbal description of these distributions.\n",
    " - Be sure to back up these summaries with statistics."
   ]
  },
  {
   "cell_type": "code",
   "execution_count": 87,
   "metadata": {},
   "outputs": [
    {
     "data": {
      "text/html": [
       "<div>\n",
       "<style scoped>\n",
       "    .dataframe tbody tr th:only-of-type {\n",
       "        vertical-align: middle;\n",
       "    }\n",
       "\n",
       "    .dataframe tbody tr th {\n",
       "        vertical-align: top;\n",
       "    }\n",
       "\n",
       "    .dataframe thead th {\n",
       "        text-align: right;\n",
       "    }\n",
       "</style>\n",
       "<table border=\"1\" class=\"dataframe\">\n",
       "  <thead>\n",
       "    <tr style=\"text-align: right;\">\n",
       "      <th></th>\n",
       "      <th>count</th>\n",
       "      <th>mean</th>\n",
       "      <th>std</th>\n",
       "      <th>min</th>\n",
       "      <th>25%</th>\n",
       "      <th>50%</th>\n",
       "      <th>75%</th>\n",
       "      <th>max</th>\n",
       "    </tr>\n",
       "  </thead>\n",
       "  <tbody>\n",
       "    <tr>\n",
       "      <td>participation_act_2017</td>\n",
       "      <td>51.0</td>\n",
       "      <td>65.254902</td>\n",
       "      <td>32.140842</td>\n",
       "      <td>8.0</td>\n",
       "      <td>31.0</td>\n",
       "      <td>69.0</td>\n",
       "      <td>100.0</td>\n",
       "      <td>100.0</td>\n",
       "    </tr>\n",
       "    <tr>\n",
       "      <td>participation_sat_2017</td>\n",
       "      <td>51.0</td>\n",
       "      <td>39.803922</td>\n",
       "      <td>35.276632</td>\n",
       "      <td>2.0</td>\n",
       "      <td>4.0</td>\n",
       "      <td>38.0</td>\n",
       "      <td>66.0</td>\n",
       "      <td>100.0</td>\n",
       "    </tr>\n",
       "    <tr>\n",
       "      <td>participation_act_2018</td>\n",
       "      <td>51.0</td>\n",
       "      <td>61.725490</td>\n",
       "      <td>34.037085</td>\n",
       "      <td>7.0</td>\n",
       "      <td>28.5</td>\n",
       "      <td>66.0</td>\n",
       "      <td>100.0</td>\n",
       "      <td>100.0</td>\n",
       "    </tr>\n",
       "    <tr>\n",
       "      <td>participation_sat_2018</td>\n",
       "      <td>51.0</td>\n",
       "      <td>45.745098</td>\n",
       "      <td>37.314256</td>\n",
       "      <td>2.0</td>\n",
       "      <td>4.5</td>\n",
       "      <td>52.0</td>\n",
       "      <td>77.5</td>\n",
       "      <td>100.0</td>\n",
       "    </tr>\n",
       "  </tbody>\n",
       "</table>\n",
       "</div>"
      ],
      "text/plain": [
       "                        count       mean        std  min   25%   50%    75%  \\\n",
       "participation_act_2017   51.0  65.254902  32.140842  8.0  31.0  69.0  100.0   \n",
       "participation_sat_2017   51.0  39.803922  35.276632  2.0   4.0  38.0   66.0   \n",
       "participation_act_2018   51.0  61.725490  34.037085  7.0  28.5  66.0  100.0   \n",
       "participation_sat_2018   51.0  45.745098  37.314256  2.0   4.5  52.0   77.5   \n",
       "\n",
       "                          max  \n",
       "participation_act_2017  100.0  \n",
       "participation_sat_2017  100.0  \n",
       "participation_act_2018  100.0  \n",
       "participation_sat_2018  100.0  "
      ]
     },
     "execution_count": 87,
     "metadata": {},
     "output_type": "execute_result"
    }
   ],
   "source": [
    "df_final[[item for item in df_final.columns if 'participation' in item]].describe().T"
   ]
  },
  {
   "cell_type": "code",
   "execution_count": 88,
   "metadata": {},
   "outputs": [
    {
     "data": {
      "text/html": [
       "<div>\n",
       "<style scoped>\n",
       "    .dataframe tbody tr th:only-of-type {\n",
       "        vertical-align: middle;\n",
       "    }\n",
       "\n",
       "    .dataframe tbody tr th {\n",
       "        vertical-align: top;\n",
       "    }\n",
       "\n",
       "    .dataframe thead th {\n",
       "        text-align: right;\n",
       "    }\n",
       "</style>\n",
       "<table border=\"1\" class=\"dataframe\">\n",
       "  <thead>\n",
       "    <tr style=\"text-align: right;\">\n",
       "      <th></th>\n",
       "      <th>count</th>\n",
       "      <th>mean</th>\n",
       "      <th>std</th>\n",
       "      <th>min</th>\n",
       "      <th>25%</th>\n",
       "      <th>50%</th>\n",
       "      <th>75%</th>\n",
       "      <th>max</th>\n",
       "    </tr>\n",
       "  </thead>\n",
       "  <tbody>\n",
       "    <tr>\n",
       "      <td>math_act</td>\n",
       "      <td>51.0</td>\n",
       "      <td>21.182353</td>\n",
       "      <td>1.981989</td>\n",
       "      <td>18.0</td>\n",
       "      <td>19.4</td>\n",
       "      <td>20.9</td>\n",
       "      <td>23.1</td>\n",
       "      <td>25.3</td>\n",
       "    </tr>\n",
       "    <tr>\n",
       "      <td>math_sat_2017</td>\n",
       "      <td>51.0</td>\n",
       "      <td>556.882353</td>\n",
       "      <td>47.121395</td>\n",
       "      <td>468.0</td>\n",
       "      <td>523.5</td>\n",
       "      <td>548.0</td>\n",
       "      <td>599.0</td>\n",
       "      <td>651.0</td>\n",
       "    </tr>\n",
       "    <tr>\n",
       "      <td>math_sat_2018</td>\n",
       "      <td>51.0</td>\n",
       "      <td>556.235294</td>\n",
       "      <td>47.772623</td>\n",
       "      <td>480.0</td>\n",
       "      <td>522.5</td>\n",
       "      <td>544.0</td>\n",
       "      <td>593.5</td>\n",
       "      <td>655.0</td>\n",
       "    </tr>\n",
       "  </tbody>\n",
       "</table>\n",
       "</div>"
      ],
      "text/plain": [
       "               count        mean        std    min    25%    50%    75%    max\n",
       "math_act        51.0   21.182353   1.981989   18.0   19.4   20.9   23.1   25.3\n",
       "math_sat_2017   51.0  556.882353  47.121395  468.0  523.5  548.0  599.0  651.0\n",
       "math_sat_2018   51.0  556.235294  47.772623  480.0  522.5  544.0  593.5  655.0"
      ]
     },
     "execution_count": 88,
     "metadata": {},
     "output_type": "execute_result"
    }
   ],
   "source": [
    "df_final[[item for item in df_final.columns if 'math' in item]].describe().T"
   ]
  },
  {
   "cell_type": "code",
   "execution_count": 89,
   "metadata": {},
   "outputs": [
    {
     "data": {
      "text/html": [
       "<div>\n",
       "<style scoped>\n",
       "    .dataframe tbody tr th:only-of-type {\n",
       "        vertical-align: middle;\n",
       "    }\n",
       "\n",
       "    .dataframe tbody tr th {\n",
       "        vertical-align: top;\n",
       "    }\n",
       "\n",
       "    .dataframe thead th {\n",
       "        text-align: right;\n",
       "    }\n",
       "</style>\n",
       "<table border=\"1\" class=\"dataframe\">\n",
       "  <thead>\n",
       "    <tr style=\"text-align: right;\">\n",
       "      <th></th>\n",
       "      <th>count</th>\n",
       "      <th>mean</th>\n",
       "      <th>std</th>\n",
       "      <th>min</th>\n",
       "      <th>25%</th>\n",
       "      <th>50%</th>\n",
       "      <th>75%</th>\n",
       "      <th>max</th>\n",
       "    </tr>\n",
       "  </thead>\n",
       "  <tbody>\n",
       "    <tr>\n",
       "      <td>english</td>\n",
       "      <td>51.0</td>\n",
       "      <td>20.931373</td>\n",
       "      <td>2.353677</td>\n",
       "      <td>16.3</td>\n",
       "      <td>19.00</td>\n",
       "      <td>20.7</td>\n",
       "      <td>23.30</td>\n",
       "      <td>25.5</td>\n",
       "    </tr>\n",
       "    <tr>\n",
       "      <td>reading</td>\n",
       "      <td>51.0</td>\n",
       "      <td>22.013725</td>\n",
       "      <td>2.067271</td>\n",
       "      <td>18.1</td>\n",
       "      <td>20.45</td>\n",
       "      <td>21.8</td>\n",
       "      <td>24.15</td>\n",
       "      <td>26.0</td>\n",
       "    </tr>\n",
       "    <tr>\n",
       "      <td>reasoning_2017</td>\n",
       "      <td>51.0</td>\n",
       "      <td>569.117647</td>\n",
       "      <td>45.666901</td>\n",
       "      <td>482.0</td>\n",
       "      <td>533.50</td>\n",
       "      <td>559.0</td>\n",
       "      <td>613.00</td>\n",
       "      <td>644.0</td>\n",
       "    </tr>\n",
       "    <tr>\n",
       "      <td>reasoning_2018</td>\n",
       "      <td>51.0</td>\n",
       "      <td>563.686275</td>\n",
       "      <td>47.502627</td>\n",
       "      <td>480.0</td>\n",
       "      <td>534.50</td>\n",
       "      <td>552.0</td>\n",
       "      <td>610.50</td>\n",
       "      <td>643.0</td>\n",
       "    </tr>\n",
       "  </tbody>\n",
       "</table>\n",
       "</div>"
      ],
      "text/plain": [
       "                count        mean        std    min     25%    50%     75%  \\\n",
       "english          51.0   20.931373   2.353677   16.3   19.00   20.7   23.30   \n",
       "reading          51.0   22.013725   2.067271   18.1   20.45   21.8   24.15   \n",
       "reasoning_2017   51.0  569.117647  45.666901  482.0  533.50  559.0  613.00   \n",
       "reasoning_2018   51.0  563.686275  47.502627  480.0  534.50  552.0  610.50   \n",
       "\n",
       "                  max  \n",
       "english          25.5  \n",
       "reading          26.0  \n",
       "reasoning_2017  644.0  \n",
       "reasoning_2018  643.0  "
      ]
     },
     "execution_count": 89,
     "metadata": {},
     "output_type": "execute_result"
    }
   ],
   "source": [
    "df_final[[item for item in df_final.columns if ('reading' in item) or ('reasoning' in item) or ('english' in item)]].describe().T"
   ]
  },
  {
   "cell_type": "code",
   "execution_count": 90,
   "metadata": {},
   "outputs": [],
   "source": [
    "# sns.distplot(stocks[stocks['ticker'] == 'SBUX']['close'], bins=10, kde = True);\n",
    "def distplots(dataframe,list_of_columns):\n",
    "    for column_name in list_of_columns:\n",
    "        plt.figure(figsize=(5,5))\n",
    "        sns.distplot(dataframe[column_name],bins=15,norm_hist=True,kde=True)\n",
    "        plt.title(' '.join(column_name.upper().split('_')),size=22)\n",
    "        plt.tight_layout()\n",
    "    return"
   ]
  },
  {
   "cell_type": "code",
   "execution_count": 91,
   "metadata": {},
   "outputs": [
    {
     "data": {
      "image/png": "[encoded data removed]",
      "text/plain": [
       "<Figure size 360x360 with 1 Axes>"
      ]
     },
     "metadata": {
      "needs_background": "light"
     },
     "output_type": "display_data"
    },
    {
     "data": {
      "image/png": "[encoded data removed]",
      "text/plain": [
       "<Figure size 360x360 with 1 Axes>"
      ]
     },
     "metadata": {
      "needs_background": "light"
     },
     "output_type": "display_data"
    },
    {
     "data": {
      "image/png": "[encoded data removed]",
      "text/plain": [
       "<Figure size 360x360 with 1 Axes>"
      ]
     },
     "metadata": {
      "needs_background": "light"
     },
     "output_type": "display_data"
    },
    {
     "data": {
      "image/png": "[encoded data removed]",
      "text/plain": [
       "<Figure size 360x360 with 1 Axes>"
      ]
     },
     "metadata": {
      "needs_background": "light"
     },
     "output_type": "display_data"
    },
    {
     "data": {
      "image/png": "[encoded data removed]",
      "text/plain": [
       "<Figure size 360x360 with 1 Axes>"
      ]
     },
     "metadata": {
      "needs_background": "light"
     },
     "output_type": "display_data"
    },
    {
     "data": {
      "image/png": "[encoded data removed]",
      "text/plain": [
       "<Figure size 360x360 with 1 Axes>"
      ]
     },
     "metadata": {
      "needs_background": "light"
     },
     "output_type": "display_data"
    },
    {
     "data": {
      "image/png": "[encoded data removed]",
      "text/plain": [
       "<Figure size 360x360 with 1 Axes>"
      ]
     },
     "metadata": {
      "needs_background": "light"
     },
     "output_type": "display_data"
    },
    {
     "data": {
      "image/png": "[encoded data removed]",
      "text/plain": [
       "<Figure size 360x360 with 1 Axes>"
      ]
     },
     "metadata": {
      "needs_background": "light"
     },
     "output_type": "display_data"
    },
    {
     "data": {
      "image/png": "[encoded data removed]",
      "text/plain": [
       "<Figure size 360x360 with 1 Axes>"
      ]
     },
     "metadata": {
      "needs_background": "light"
     },
     "output_type": "display_data"
    },
    {
     "data": {
      "image/png": "[encoded data removed]",
      "text/plain": [
       "<Figure size 360x360 with 1 Axes>"
      ]
     },
     "metadata": {
      "needs_background": "light"
     },
     "output_type": "display_data"
    },
    {
     "data": {
      "image/png": "[encoded data removed]",
      "text/plain": [
       "<Figure size 360x360 with 1 Axes>"
      ]
     },
     "metadata": {
      "needs_background": "light"
     },
     "output_type": "display_data"
    },
    {
     "data": {
      "image/png": "[encoded data removed]",
      "text/plain": [
       "<Figure size 360x360 with 1 Axes>"
      ]
     },
     "metadata": {
      "needs_background": "light"
     },
     "output_type": "display_data"
    },
    {
     "data": {
      "image/png": "[encoded data removed]",
      "text/plain": [
       "<Figure size 360x360 with 1 Axes>"
      ]
     },
     "metadata": {
      "needs_background": "light"
     },
     "output_type": "display_data"
    },
    {
     "data": {
      "image/png": "[encoded data removed]",
      "text/plain": [
       "<Figure size 360x360 with 1 Axes>"
      ]
     },
     "metadata": {
      "needs_background": "light"
     },
     "output_type": "display_data"
    },
    {
     "data": {
      "image/png": "[encoded data removed]",
      "text/plain": [
       "<Figure size 360x360 with 1 Axes>"
      ]
     },
     "metadata": {
      "needs_background": "light"
     },
     "output_type": "display_data"
    },
    {
     "data": {
      "image/png": "[encoded data removed]",
      "text/plain": [
       "<Figure size 360x360 with 1 Axes>"
      ]
     },
     "metadata": {
      "needs_background": "light"
     },
     "output_type": "display_data"
    }
   ],
   "source": [
    "list_of_columns = [item for item in df_final.select_dtypes(include=['int','float'])]\n",
    "distplots(df_final,list_of_columns,)"
   ]
  },
  {
   "cell_type": "markdown",
   "metadata": {},
   "source": [
    "Answers: \n",
    "- ```participation_act_2017```, ```participation_act_2018```:\n",
    "This distribution has two peaks corresponding two lower and higher participation limits. There is a symmetry but the two peaks makes it less similar to a Gaussian as observed from the kde. From the histogram, we can see a concentration at low participation rates and high participation rates as expected\n",
    "\n",
    "- ```english```, ```math```, ```reading```, ```science```, ```composite2017```, ```composite2018```:\n",
    "These are the scores in ACT 2017 and ACT 2018, they have a symmetry showing a closer to Gaussian behavior. The ```science``` has an outlier as can be seen in the histogram and the boxplot. \n",
    "\n",
    "- ```participation_sat_2017```, ```participation_sat_2018```:\n",
    "These distribution similar trend as the ACT participation rates. Showing the possibility of either high participation or low participation. \n",
    "\n",
    "- ```reasoning_2017```, ```reasonong_2018```, ```math_sat_2017```, ```math_sat_2018```:\n",
    "These scores correspond to the SATs and as expected, the scores show a similar to ACT, almost Gaussian trend. \n",
    "\n",
    "\n"
   ]
  },
  {
   "cell_type": "markdown",
   "metadata": {},
   "source": [
    "#### We generally assuming that data we sample from a population will be normally distributed. Do we observe this trend?"
   ]
  },
  {
   "cell_type": "markdown",
   "metadata": {},
   "source": [
    "Answer: The assumption is more appropriate for sampling exam scores but not for sampling the participation rates."
   ]
  },
  {
   "cell_type": "markdown",
   "metadata": {},
   "source": [
    "Does This Assumption Hold for:\n",
    "    - Math\n",
    "    Yes\n",
    "    - Reading\n",
    "    Yes\n",
    "    - Rates\n",
    "    No\n",
    "Explain your answers for each distribution and how you think this will affect estimates made from these data."
   ]
  },
  {
   "cell_type": "markdown",
   "metadata": {},
   "source": [
    "Answer:\n",
    "The same as mentioned above. \n",
    "The assumption holds for exam scores but not for the rates. The rates seem to have other parameters making the behavior less random as shown by their twin peak beahvior. "
   ]
  },
  {
   "cell_type": "markdown",
   "metadata": {},
   "source": [
    "#### Estimate Limits of Data\n",
    "\n",
    "Suppose we only seek to understand the relationship between SAT and ACT participation rates in 2017. \n",
    "\n",
    "##### Does it make sense to conduct statistical inference given these data specifically? \n",
    "\n",
    "Why or why not?\n",
    "\n",
    "*(think about granularity, aggregation, the relationships between populations size & rates...consider the actually populations these data describe in answering this question)*"
   ]
  },
  {
   "cell_type": "code",
   "execution_count": 92,
   "metadata": {},
   "outputs": [
    {
     "name": "stdout",
     "output_type": "stream",
     "text": [
      "count     51.000000\n",
      "mean      65.254902\n",
      "std       32.140842\n",
      "min        8.000000\n",
      "25%       31.000000\n",
      "50%       69.000000\n",
      "75%      100.000000\n",
      "max      100.000000\n",
      "Name: participation_act_2017, dtype: float64\n",
      "count     51.000000\n",
      "mean      39.803922\n",
      "std       35.276632\n",
      "min        2.000000\n",
      "25%        4.000000\n",
      "50%       38.000000\n",
      "75%       66.000000\n",
      "max      100.000000\n",
      "Name: participation_sat_2017, dtype: float64\n"
     ]
    },
    {
     "data": {
      "image/png": "[encoded data removed]",
      "text/plain": [
       "<Figure size 360x360 with 1 Axes>"
      ]
     },
     "metadata": {
      "needs_background": "light"
     },
     "output_type": "display_data"
    }
   ],
   "source": [
    "print(df_final.participation_act_2017.describe())\n",
    "print(df_final.participation_sat_2017.describe())\n",
    "plt.figure(figsize=(5,5))\n",
    "sns.distplot(df_final.participation_act_2017,label='Rate ACT 2017',color='blue')\n",
    "sns.distplot(df_final.participation_sat_2017,label='Rate SAT 2017',color='orange');\n",
    "# plt.legend('upper right');"
   ]
  },
  {
   "cell_type": "markdown",
   "metadata": {},
   "source": [
    "Answer:\n",
    "As maybe observed from the data description and the comparative histograms, we can see that the ACT exam is more popular, showing more states with a higher participation rates. This is also clear from the median or 50% percentile, ACT has a 69% median rate while SAT has only 38% median rate. \n",
    "The spread, mean and deviations of these exam rate dist are however comparable and in similar order of magnitude."
   ]
  },
  {
   "cell_type": "markdown",
   "metadata": {},
   "source": [
    "##### Is it appropriate to compare *these* specific SAT and ACT math scores? \n",
    "\n",
    "Why or why not?"
   ]
  },
  {
   "cell_type": "code",
   "execution_count": 93,
   "metadata": {},
   "outputs": [
    {
     "name": "stdout",
     "output_type": "stream",
     "text": [
      "count    51.000000\n",
      "mean     21.182353\n",
      "std       1.981989\n",
      "min      18.000000\n",
      "25%      19.400000\n",
      "50%      20.900000\n",
      "75%      23.100000\n",
      "max      25.300000\n",
      "Name: math_act, dtype: float64\n",
      "count     51.000000\n",
      "mean     556.882353\n",
      "std       47.121395\n",
      "min      468.000000\n",
      "25%      523.500000\n",
      "50%      548.000000\n",
      "75%      599.000000\n",
      "max      651.000000\n",
      "Name: math_sat_2017, dtype: float64\n"
     ]
    },
    {
     "data": {
      "image/png": "[encoded data removed]",
      "text/plain": [
       "<Figure size 360x360 with 1 Axes>"
      ]
     },
     "metadata": {
      "needs_background": "light"
     },
     "output_type": "display_data"
    }
   ],
   "source": [
    "print(df_final.math_act.describe())\n",
    "print(df_final.math_sat_2017.describe())\n",
    "plt.figure(figsize=(5,5))\n",
    "sns.distplot(df_final.math_act,label='Math ACT 2017',color='blue')\n",
    "sns.distplot(df_final.math_sat_2017,label=' SAT 2017',color='orange');\n",
    "# plt.legend('upper right');"
   ]
  },
  {
   "cell_type": "markdown",
   "metadata": {},
   "source": [
    "Answer:It is not fair to compare, as these scores on a different scale and their scoring strategies differ. "
   ]
  },
  {
   "cell_type": "markdown",
   "metadata": {},
   "source": [
    "#### Statistical Evaluation of Distributions \n",
    "\n",
    "**If you feel it's appropriate**, using methods we discussed in class, run hypothesis tests to compare variables of interest in our dataset. "
   ]
  },
  {
   "cell_type": "code",
   "execution_count": 94,
   "metadata": {},
   "outputs": [],
   "source": [
    "# Code:"
   ]
  },
  {
   "cell_type": "markdown",
   "metadata": {},
   "source": [
    "## Outside Research"
   ]
  },
  {
   "cell_type": "markdown",
   "metadata": {},
   "source": [
    "Based upon your observations, choose **three** states that demonstrate interesting trends in their SAT and/or ACT participation rates. Spend some time doing outside research on state policies that might influence these rates, and summarize your findings below. **Feel free to go back and create new plots that highlight these states of interest**. If you bring in any outside tables or charts, make sure you are explicit about having borrowed them. If you quote any text, make sure that it renders as being quoted. (Make sure that you cite your sources -- check with you local instructor for citation preferences)."
   ]
  },
  {
   "cell_type": "code",
   "execution_count": 121,
   "metadata": {},
   "outputs": [
    {
     "data": {
      "text/html": [
       "<div>\n",
       "<style scoped>\n",
       "    .dataframe tbody tr th:only-of-type {\n",
       "        vertical-align: middle;\n",
       "    }\n",
       "\n",
       "    .dataframe tbody tr th {\n",
       "        vertical-align: top;\n",
       "    }\n",
       "\n",
       "    .dataframe thead th {\n",
       "        text-align: right;\n",
       "    }\n",
       "</style>\n",
       "<table border=\"1\" class=\"dataframe\">\n",
       "  <thead>\n",
       "    <tr style=\"text-align: right;\">\n",
       "      <th></th>\n",
       "      <th>state</th>\n",
       "      <th>participation_act_2017</th>\n",
       "      <th>participation_act_2018</th>\n",
       "      <th>participation_sat_2017</th>\n",
       "      <th>participation_sat_2018</th>\n",
       "    </tr>\n",
       "  </thead>\n",
       "  <tbody>\n",
       "    <tr>\n",
       "      <td>0</td>\n",
       "      <td>Alabama</td>\n",
       "      <td>100.0</td>\n",
       "      <td>100.0</td>\n",
       "      <td>5.0</td>\n",
       "      <td>6.0</td>\n",
       "    </tr>\n",
       "    <tr>\n",
       "      <td>17</td>\n",
       "      <td>Kentucky</td>\n",
       "      <td>100.0</td>\n",
       "      <td>100.0</td>\n",
       "      <td>4.0</td>\n",
       "      <td>4.0</td>\n",
       "    </tr>\n",
       "    <tr>\n",
       "      <td>49</td>\n",
       "      <td>Wisconsin</td>\n",
       "      <td>100.0</td>\n",
       "      <td>100.0</td>\n",
       "      <td>3.0</td>\n",
       "      <td>3.0</td>\n",
       "    </tr>\n",
       "    <tr>\n",
       "      <td>44</td>\n",
       "      <td>Utah</td>\n",
       "      <td>100.0</td>\n",
       "      <td>100.0</td>\n",
       "      <td>3.0</td>\n",
       "      <td>4.0</td>\n",
       "    </tr>\n",
       "    <tr>\n",
       "      <td>42</td>\n",
       "      <td>Tennessee</td>\n",
       "      <td>100.0</td>\n",
       "      <td>100.0</td>\n",
       "      <td>5.0</td>\n",
       "      <td>6.0</td>\n",
       "    </tr>\n",
       "    <tr>\n",
       "      <td>40</td>\n",
       "      <td>South Carolina</td>\n",
       "      <td>100.0</td>\n",
       "      <td>100.0</td>\n",
       "      <td>50.0</td>\n",
       "      <td>55.0</td>\n",
       "    </tr>\n",
       "    <tr>\n",
       "      <td>36</td>\n",
       "      <td>Oklahoma</td>\n",
       "      <td>100.0</td>\n",
       "      <td>100.0</td>\n",
       "      <td>7.0</td>\n",
       "      <td>8.0</td>\n",
       "    </tr>\n",
       "    <tr>\n",
       "      <td>33</td>\n",
       "      <td>North Carolina</td>\n",
       "      <td>100.0</td>\n",
       "      <td>100.0</td>\n",
       "      <td>49.0</td>\n",
       "      <td>52.0</td>\n",
       "    </tr>\n",
       "    <tr>\n",
       "      <td>28</td>\n",
       "      <td>Nevada</td>\n",
       "      <td>100.0</td>\n",
       "      <td>100.0</td>\n",
       "      <td>26.0</td>\n",
       "      <td>23.0</td>\n",
       "    </tr>\n",
       "    <tr>\n",
       "      <td>26</td>\n",
       "      <td>Montana</td>\n",
       "      <td>100.0</td>\n",
       "      <td>100.0</td>\n",
       "      <td>10.0</td>\n",
       "      <td>10.0</td>\n",
       "    </tr>\n",
       "    <tr>\n",
       "      <td>24</td>\n",
       "      <td>Mississippi</td>\n",
       "      <td>100.0</td>\n",
       "      <td>100.0</td>\n",
       "      <td>2.0</td>\n",
       "      <td>3.0</td>\n",
       "    </tr>\n",
       "    <tr>\n",
       "      <td>23</td>\n",
       "      <td>Minnesota</td>\n",
       "      <td>100.0</td>\n",
       "      <td>99.0</td>\n",
       "      <td>3.0</td>\n",
       "      <td>4.0</td>\n",
       "    </tr>\n",
       "    <tr>\n",
       "      <td>18</td>\n",
       "      <td>Louisiana</td>\n",
       "      <td>100.0</td>\n",
       "      <td>100.0</td>\n",
       "      <td>4.0</td>\n",
       "      <td>4.0</td>\n",
       "    </tr>\n",
       "    <tr>\n",
       "      <td>25</td>\n",
       "      <td>Missouri</td>\n",
       "      <td>100.0</td>\n",
       "      <td>100.0</td>\n",
       "      <td>3.0</td>\n",
       "      <td>4.0</td>\n",
       "    </tr>\n",
       "    <tr>\n",
       "      <td>50</td>\n",
       "      <td>Wyoming</td>\n",
       "      <td>100.0</td>\n",
       "      <td>100.0</td>\n",
       "      <td>3.0</td>\n",
       "      <td>3.0</td>\n",
       "    </tr>\n",
       "    <tr>\n",
       "      <td>5</td>\n",
       "      <td>Colorado</td>\n",
       "      <td>100.0</td>\n",
       "      <td>30.0</td>\n",
       "      <td>11.0</td>\n",
       "      <td>100.0</td>\n",
       "    </tr>\n",
       "    <tr>\n",
       "      <td>3</td>\n",
       "      <td>Arkansas</td>\n",
       "      <td>100.0</td>\n",
       "      <td>100.0</td>\n",
       "      <td>3.0</td>\n",
       "      <td>5.0</td>\n",
       "    </tr>\n",
       "    <tr>\n",
       "      <td>34</td>\n",
       "      <td>North Dakota</td>\n",
       "      <td>98.0</td>\n",
       "      <td>98.0</td>\n",
       "      <td>2.0</td>\n",
       "      <td>2.0</td>\n",
       "    </tr>\n",
       "    <tr>\n",
       "      <td>13</td>\n",
       "      <td>Illinois</td>\n",
       "      <td>93.0</td>\n",
       "      <td>43.0</td>\n",
       "      <td>9.0</td>\n",
       "      <td>99.0</td>\n",
       "    </tr>\n",
       "    <tr>\n",
       "      <td>11</td>\n",
       "      <td>Hawaii</td>\n",
       "      <td>90.0</td>\n",
       "      <td>89.0</td>\n",
       "      <td>55.0</td>\n",
       "      <td>56.0</td>\n",
       "    </tr>\n",
       "    <tr>\n",
       "      <td>27</td>\n",
       "      <td>Nebraska</td>\n",
       "      <td>84.0</td>\n",
       "      <td>100.0</td>\n",
       "      <td>3.0</td>\n",
       "      <td>3.0</td>\n",
       "    </tr>\n",
       "    <tr>\n",
       "      <td>41</td>\n",
       "      <td>South Dakota</td>\n",
       "      <td>80.0</td>\n",
       "      <td>77.0</td>\n",
       "      <td>3.0</td>\n",
       "      <td>3.0</td>\n",
       "    </tr>\n",
       "    <tr>\n",
       "      <td>35</td>\n",
       "      <td>Ohio</td>\n",
       "      <td>75.0</td>\n",
       "      <td>100.0</td>\n",
       "      <td>12.0</td>\n",
       "      <td>18.0</td>\n",
       "    </tr>\n",
       "    <tr>\n",
       "      <td>9</td>\n",
       "      <td>Florida</td>\n",
       "      <td>73.0</td>\n",
       "      <td>66.0</td>\n",
       "      <td>83.0</td>\n",
       "      <td>56.0</td>\n",
       "    </tr>\n",
       "    <tr>\n",
       "      <td>16</td>\n",
       "      <td>Kansas</td>\n",
       "      <td>73.0</td>\n",
       "      <td>71.0</td>\n",
       "      <td>4.0</td>\n",
       "      <td>4.0</td>\n",
       "    </tr>\n",
       "    <tr>\n",
       "      <td>48</td>\n",
       "      <td>West Virginia</td>\n",
       "      <td>69.0</td>\n",
       "      <td>65.0</td>\n",
       "      <td>14.0</td>\n",
       "      <td>28.0</td>\n",
       "    </tr>\n",
       "    <tr>\n",
       "      <td>15</td>\n",
       "      <td>Iowa</td>\n",
       "      <td>67.0</td>\n",
       "      <td>68.0</td>\n",
       "      <td>2.0</td>\n",
       "      <td>3.0</td>\n",
       "    </tr>\n",
       "    <tr>\n",
       "      <td>31</td>\n",
       "      <td>New Mexico</td>\n",
       "      <td>66.0</td>\n",
       "      <td>67.0</td>\n",
       "      <td>11.0</td>\n",
       "      <td>16.0</td>\n",
       "    </tr>\n",
       "    <tr>\n",
       "      <td>1</td>\n",
       "      <td>Alaska</td>\n",
       "      <td>65.0</td>\n",
       "      <td>33.0</td>\n",
       "      <td>38.0</td>\n",
       "      <td>43.0</td>\n",
       "    </tr>\n",
       "    <tr>\n",
       "      <td>2</td>\n",
       "      <td>Arizona</td>\n",
       "      <td>62.0</td>\n",
       "      <td>66.0</td>\n",
       "      <td>30.0</td>\n",
       "      <td>29.0</td>\n",
       "    </tr>\n",
       "    <tr>\n",
       "      <td>10</td>\n",
       "      <td>Georgia</td>\n",
       "      <td>55.0</td>\n",
       "      <td>53.0</td>\n",
       "      <td>61.0</td>\n",
       "      <td>70.0</td>\n",
       "    </tr>\n",
       "    <tr>\n",
       "      <td>43</td>\n",
       "      <td>Texas</td>\n",
       "      <td>45.0</td>\n",
       "      <td>45.0</td>\n",
       "      <td>62.0</td>\n",
       "      <td>66.0</td>\n",
       "    </tr>\n",
       "    <tr>\n",
       "      <td>37</td>\n",
       "      <td>Oregon</td>\n",
       "      <td>40.0</td>\n",
       "      <td>42.0</td>\n",
       "      <td>43.0</td>\n",
       "      <td>48.0</td>\n",
       "    </tr>\n",
       "    <tr>\n",
       "      <td>12</td>\n",
       "      <td>Idaho</td>\n",
       "      <td>38.0</td>\n",
       "      <td>36.0</td>\n",
       "      <td>93.0</td>\n",
       "      <td>100.0</td>\n",
       "    </tr>\n",
       "    <tr>\n",
       "      <td>14</td>\n",
       "      <td>Indiana</td>\n",
       "      <td>35.0</td>\n",
       "      <td>32.0</td>\n",
       "      <td>63.0</td>\n",
       "      <td>63.0</td>\n",
       "    </tr>\n",
       "    <tr>\n",
       "      <td>30</td>\n",
       "      <td>New Jersey</td>\n",
       "      <td>34.0</td>\n",
       "      <td>31.0</td>\n",
       "      <td>70.0</td>\n",
       "      <td>82.0</td>\n",
       "    </tr>\n",
       "    <tr>\n",
       "      <td>8</td>\n",
       "      <td>District of Columbia</td>\n",
       "      <td>32.0</td>\n",
       "      <td>32.0</td>\n",
       "      <td>100.0</td>\n",
       "      <td>92.0</td>\n",
       "    </tr>\n",
       "    <tr>\n",
       "      <td>6</td>\n",
       "      <td>Connecticut</td>\n",
       "      <td>31.0</td>\n",
       "      <td>26.0</td>\n",
       "      <td>100.0</td>\n",
       "      <td>100.0</td>\n",
       "    </tr>\n",
       "    <tr>\n",
       "      <td>4</td>\n",
       "      <td>California</td>\n",
       "      <td>31.0</td>\n",
       "      <td>27.0</td>\n",
       "      <td>53.0</td>\n",
       "      <td>60.0</td>\n",
       "    </tr>\n",
       "    <tr>\n",
       "      <td>32</td>\n",
       "      <td>New York</td>\n",
       "      <td>31.0</td>\n",
       "      <td>27.0</td>\n",
       "      <td>67.0</td>\n",
       "      <td>79.0</td>\n",
       "    </tr>\n",
       "    <tr>\n",
       "      <td>22</td>\n",
       "      <td>Michigan</td>\n",
       "      <td>29.0</td>\n",
       "      <td>22.0</td>\n",
       "      <td>100.0</td>\n",
       "      <td>100.0</td>\n",
       "    </tr>\n",
       "    <tr>\n",
       "      <td>21</td>\n",
       "      <td>Massachusetts</td>\n",
       "      <td>29.0</td>\n",
       "      <td>25.0</td>\n",
       "      <td>76.0</td>\n",
       "      <td>80.0</td>\n",
       "    </tr>\n",
       "    <tr>\n",
       "      <td>45</td>\n",
       "      <td>Vermont</td>\n",
       "      <td>29.0</td>\n",
       "      <td>24.0</td>\n",
       "      <td>60.0</td>\n",
       "      <td>64.0</td>\n",
       "    </tr>\n",
       "    <tr>\n",
       "      <td>46</td>\n",
       "      <td>Virginia</td>\n",
       "      <td>29.0</td>\n",
       "      <td>24.0</td>\n",
       "      <td>65.0</td>\n",
       "      <td>68.0</td>\n",
       "    </tr>\n",
       "    <tr>\n",
       "      <td>47</td>\n",
       "      <td>Washington</td>\n",
       "      <td>29.0</td>\n",
       "      <td>24.0</td>\n",
       "      <td>64.0</td>\n",
       "      <td>69.0</td>\n",
       "    </tr>\n",
       "    <tr>\n",
       "      <td>20</td>\n",
       "      <td>Maryland</td>\n",
       "      <td>28.0</td>\n",
       "      <td>31.0</td>\n",
       "      <td>69.0</td>\n",
       "      <td>76.0</td>\n",
       "    </tr>\n",
       "    <tr>\n",
       "      <td>38</td>\n",
       "      <td>Pennsylvania</td>\n",
       "      <td>23.0</td>\n",
       "      <td>20.0</td>\n",
       "      <td>65.0</td>\n",
       "      <td>70.0</td>\n",
       "    </tr>\n",
       "    <tr>\n",
       "      <td>39</td>\n",
       "      <td>Rhode Island</td>\n",
       "      <td>21.0</td>\n",
       "      <td>15.0</td>\n",
       "      <td>71.0</td>\n",
       "      <td>97.0</td>\n",
       "    </tr>\n",
       "    <tr>\n",
       "      <td>7</td>\n",
       "      <td>Delaware</td>\n",
       "      <td>18.0</td>\n",
       "      <td>17.0</td>\n",
       "      <td>100.0</td>\n",
       "      <td>100.0</td>\n",
       "    </tr>\n",
       "    <tr>\n",
       "      <td>29</td>\n",
       "      <td>New Hampshire</td>\n",
       "      <td>18.0</td>\n",
       "      <td>16.0</td>\n",
       "      <td>96.0</td>\n",
       "      <td>96.0</td>\n",
       "    </tr>\n",
       "    <tr>\n",
       "      <td>19</td>\n",
       "      <td>Maine</td>\n",
       "      <td>8.0</td>\n",
       "      <td>7.0</td>\n",
       "      <td>95.0</td>\n",
       "      <td>99.0</td>\n",
       "    </tr>\n",
       "  </tbody>\n",
       "</table>\n",
       "</div>"
      ],
      "text/plain": [
       "                   state  participation_act_2017  participation_act_2018  \\\n",
       "0                Alabama                   100.0                   100.0   \n",
       "17              Kentucky                   100.0                   100.0   \n",
       "49             Wisconsin                   100.0                   100.0   \n",
       "44                  Utah                   100.0                   100.0   \n",
       "42             Tennessee                   100.0                   100.0   \n",
       "40        South Carolina                   100.0                   100.0   \n",
       "36              Oklahoma                   100.0                   100.0   \n",
       "33        North Carolina                   100.0                   100.0   \n",
       "28                Nevada                   100.0                   100.0   \n",
       "26               Montana                   100.0                   100.0   \n",
       "24           Mississippi                   100.0                   100.0   \n",
       "23             Minnesota                   100.0                    99.0   \n",
       "18             Louisiana                   100.0                   100.0   \n",
       "25              Missouri                   100.0                   100.0   \n",
       "50               Wyoming                   100.0                   100.0   \n",
       "5               Colorado                   100.0                    30.0   \n",
       "3               Arkansas                   100.0                   100.0   \n",
       "34          North Dakota                    98.0                    98.0   \n",
       "13              Illinois                    93.0                    43.0   \n",
       "11                Hawaii                    90.0                    89.0   \n",
       "27              Nebraska                    84.0                   100.0   \n",
       "41          South Dakota                    80.0                    77.0   \n",
       "35                  Ohio                    75.0                   100.0   \n",
       "9                Florida                    73.0                    66.0   \n",
       "16                Kansas                    73.0                    71.0   \n",
       "48         West Virginia                    69.0                    65.0   \n",
       "15                  Iowa                    67.0                    68.0   \n",
       "31            New Mexico                    66.0                    67.0   \n",
       "1                 Alaska                    65.0                    33.0   \n",
       "2                Arizona                    62.0                    66.0   \n",
       "10               Georgia                    55.0                    53.0   \n",
       "43                 Texas                    45.0                    45.0   \n",
       "37                Oregon                    40.0                    42.0   \n",
       "12                 Idaho                    38.0                    36.0   \n",
       "14               Indiana                    35.0                    32.0   \n",
       "30            New Jersey                    34.0                    31.0   \n",
       "8   District of Columbia                    32.0                    32.0   \n",
       "6            Connecticut                    31.0                    26.0   \n",
       "4             California                    31.0                    27.0   \n",
       "32              New York                    31.0                    27.0   \n",
       "22              Michigan                    29.0                    22.0   \n",
       "21         Massachusetts                    29.0                    25.0   \n",
       "45               Vermont                    29.0                    24.0   \n",
       "46              Virginia                    29.0                    24.0   \n",
       "47            Washington                    29.0                    24.0   \n",
       "20              Maryland                    28.0                    31.0   \n",
       "38          Pennsylvania                    23.0                    20.0   \n",
       "39          Rhode Island                    21.0                    15.0   \n",
       "7               Delaware                    18.0                    17.0   \n",
       "29         New Hampshire                    18.0                    16.0   \n",
       "19                 Maine                     8.0                     7.0   \n",
       "\n",
       "    participation_sat_2017  participation_sat_2018  \n",
       "0                      5.0                     6.0  \n",
       "17                     4.0                     4.0  \n",
       "49                     3.0                     3.0  \n",
       "44                     3.0                     4.0  \n",
       "42                     5.0                     6.0  \n",
       "40                    50.0                    55.0  \n",
       "36                     7.0                     8.0  \n",
       "33                    49.0                    52.0  \n",
       "28                    26.0                    23.0  \n",
       "26                    10.0                    10.0  \n",
       "24                     2.0                     3.0  \n",
       "23                     3.0                     4.0  \n",
       "18                     4.0                     4.0  \n",
       "25                     3.0                     4.0  \n",
       "50                     3.0                     3.0  \n",
       "5                     11.0                   100.0  \n",
       "3                      3.0                     5.0  \n",
       "34                     2.0                     2.0  \n",
       "13                     9.0                    99.0  \n",
       "11                    55.0                    56.0  \n",
       "27                     3.0                     3.0  \n",
       "41                     3.0                     3.0  \n",
       "35                    12.0                    18.0  \n",
       "9                     83.0                    56.0  \n",
       "16                     4.0                     4.0  \n",
       "48                    14.0                    28.0  \n",
       "15                     2.0                     3.0  \n",
       "31                    11.0                    16.0  \n",
       "1                     38.0                    43.0  \n",
       "2                     30.0                    29.0  \n",
       "10                    61.0                    70.0  \n",
       "43                    62.0                    66.0  \n",
       "37                    43.0                    48.0  \n",
       "12                    93.0                   100.0  \n",
       "14                    63.0                    63.0  \n",
       "30                    70.0                    82.0  \n",
       "8                    100.0                    92.0  \n",
       "6                    100.0                   100.0  \n",
       "4                     53.0                    60.0  \n",
       "32                    67.0                    79.0  \n",
       "22                   100.0                   100.0  \n",
       "21                    76.0                    80.0  \n",
       "45                    60.0                    64.0  \n",
       "46                    65.0                    68.0  \n",
       "47                    64.0                    69.0  \n",
       "20                    69.0                    76.0  \n",
       "38                    65.0                    70.0  \n",
       "39                    71.0                    97.0  \n",
       "7                    100.0                   100.0  \n",
       "29                    96.0                    96.0  \n",
       "19                    95.0                    99.0  "
      ]
     },
     "execution_count": 121,
     "metadata": {},
     "output_type": "execute_result"
    }
   ],
   "source": [
    "names = ['state','participation_act_2017','participation_act_2018','participation_sat_2017','participation_sat_2018']\n",
    "df_final[names].sort_values(by=names[1],ascending=False)#.head(20)"
   ]
  },
  {
   "cell_type": "code",
   "execution_count": null,
   "metadata": {},
   "outputs": [],
   "source": [
    "df_final[]"
   ]
  },
  {
   "cell_type": "markdown",
   "metadata": {},
   "source": [
    "Three states that I find interesting are the following:\n",
    "- Colorado:\n",
    "In ACT 2017 Colorado had a 100% participation that dropped to 30% in 2018 and in the meantione SAT participation went from 11% in 2017 to 100% in 2018. This is clearly due to the change in policy of Coloarado which made SAT mandatory starting in 2017, hence you see this drastic change.\n",
    "[https://www.testive.com/colorado-sat-change-2017/]\n",
    "\n",
    "- Florida:\n",
    "FLorida has a trend that both ACT and SAT participations have dropped significantly. ACT has dropped from 73% to 66%, while SAT dropped further from 83% to 56%. This contradicts, however, to that reported in this article, [https://www.orlandosentinel.com/news/education/os-ne-act-sat-florida-scores-20181024-story.html] which cites an increase in SAT take to 97% but agrees to the trend of Florida students generally falling behind on ACT and SAT. The newspaper article justifies the increase due to free test sessions that many schools offered.\n",
    "\n",
    "- Ohio and Nebraska:\n",
    "These two states have seen significant increase in the ACT participation in 2018 from 2017. They have respectively increased from 75% and 84% respectively. Nebraska chose ACT as the state wide exam and offered PreACT sessions for 2018 which might explain the increase to 100% [https://www.education.ne.gov/assessment/act/]. "
   ]
  },
  {
   "cell_type": "markdown",
   "metadata": {},
   "source": [
    "## Conclusions and Recommendations"
   ]
  },
  {
   "cell_type": "markdown",
   "metadata": {},
   "source": [
    "Based on your exploration of the data, what are you key takeaways and recommendations? Choose one state with a lower participation rate and provide a suggestion for how the College Board might increase participation amongst graduating seniors in this state. Are there additional data you desire that would better inform your investigations?"
   ]
  },
  {
   "cell_type": "markdown",
   "metadata": {},
   "source": [
    "- The key take away from my understanding of the data and some online material is that ACT and SAT exams are administered through state policies which play a big role in the participation rates. \n",
    "- Anohter factor that seems to encourage participation is the offer of free preparation sessions or exams which make one test more approachable than the other. "
   ]
  },
  {
   "cell_type": "code",
   "execution_count": null,
   "metadata": {},
   "outputs": [],
   "source": []
  }
 ],
 "metadata": {
  "anaconda-cloud": {},
  "kernelspec": {
   "display_name": "Python 3",
   "language": "python",
   "name": "python3"
  },
  "language_info": {
   "codemirror_mode": {
    "name": "ipython",
    "version": 3
   },
   "file_extension": ".py",
   "mimetype": "text/x-python",
   "name": "python",
   "nbconvert_exporter": "python",
   "pygments_lexer": "ipython3",
   "version": "3.7.3"
  }
 },
 "nbformat": 4,
 "nbformat_minor": 2
}
